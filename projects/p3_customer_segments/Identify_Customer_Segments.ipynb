{
 "cells": [
  {
   "cell_type": "markdown",
   "metadata": {},
   "source": [
    "# Project: Identify Customer Segments\n",
    "\n",
    "In this project, you will apply unsupervised learning techniques to identify segments of the population that form the core customer base for a mail-order sales company in Germany. These segments can then be used to direct marketing campaigns towards audiences that will have the highest expected rate of returns. The data that you will use has been provided by our partners at Bertelsmann Arvato Analytics, and represents a real-life data science task.\n",
    "\n",
    "This notebook will help you complete this task by providing a framework within which you will perform your analysis steps. In each step of the project, you will see some text describing the subtask that you will perform, followed by one or more code cells for you to complete your work. **Feel free to add additional code and markdown cells as you go along so that you can explore everything in precise chunks.** The code cells provided in the base template will outline only the major tasks, and will usually not be enough to cover all of the minor tasks that comprise it.\n",
    "\n",
    "It should be noted that while there will be precise guidelines on how you should handle certain tasks in the project, there will also be places where an exact specification is not provided. **There will be times in the project where you will need to make and justify your own decisions on how to treat the data.** These are places where there may not be only one way to handle the data. In real-life tasks, there may be many valid ways to approach an analysis task. One of the most important things you can do is clearly document your approach so that other scientists can understand the decisions you've made.\n",
    "\n",
    "At the end of most sections, there will be a Markdown cell labeled **Discussion**. In these cells, you will report your findings for the completed section, as well as document the decisions that you made in your approach to each subtask. **Your project will be evaluated not just on the code used to complete the tasks outlined, but also your communication about your observations and conclusions at each stage.**"
   ]
  },
  {
   "cell_type": "code",
   "execution_count": 55,
   "metadata": {},
   "outputs": [
    {
     "data": {
      "text/plain": [
       "'\\nImport note: The classroom currently uses sklearn version 0.19.\\nIf you need to use an imputer, it is available in sklearn.preprocessing.Imputer,\\ninstead of sklearn.impute as in newer versions of sklearn.\\n'"
      ]
     },
     "execution_count": 55,
     "metadata": {},
     "output_type": "execute_result"
    }
   ],
   "source": [
    "# import libraries here; add more as necessary\n",
    "import numpy as np\n",
    "import pandas as pd\n",
    "import matplotlib.pyplot as plt\n",
    "import seaborn as sns\n",
    "from sklearn.preprocessing import OneHotEncoder\n",
    "# magic word for producing visualizations in notebook\n",
    "%matplotlib inline\n",
    "\n",
    "\n",
    "\n",
    "from sklearn.preprocessing import StandardScaler\n",
    "from sklearn.decomposition import PCA\n",
    "from sklearn.cluster import KMeans\n",
    "from sklearn.cluster import MiniBatchKMeans\n",
    "\n",
    "import warnings\n",
    "warnings.filterwarnings('ignore')\n",
    "\n",
    "'''\n",
    "Import note: The classroom currently uses sklearn version 0.19.\n",
    "If you need to use an imputer, it is available in sklearn.preprocessing.Imputer,\n",
    "instead of sklearn.impute as in newer versions of sklearn.\n",
    "'''"
   ]
  },
  {
   "cell_type": "markdown",
   "metadata": {},
   "source": [
    "### Step 0: Load the Data\n",
    "\n",
    "There are four files associated with this project (not including this one):\n",
    "\n",
    "- `Udacity_AZDIAS_Subset.csv`: Demographics data for the general population of Germany; 891211 persons (rows) x 85 features (columns).\n",
    "- `Udacity_CUSTOMERS_Subset.csv`: Demographics data for customers of a mail-order company; 191652 persons (rows) x 85 features (columns).\n",
    "- `Data_Dictionary.md`: Detailed information file about the features in the provided datasets.\n",
    "- `AZDIAS_Feature_Summary.csv`: Summary of feature attributes for demographics data; 85 features (rows) x 4 columns\n",
    "\n",
    "Each row of the demographics files represents a single person, but also includes information outside of individuals, including information about their household, building, and neighborhood. You will use this information to cluster the general population into groups with similar demographic properties. Then, you will see how the people in the customers dataset fit into those created clusters. The hope here is that certain clusters are over-represented in the customers data, as compared to the general population; those over-represented clusters will be assumed to be part of the core userbase. This information can then be used for further applications, such as targeting for a marketing campaign.\n",
    "\n",
    "To start off with, load in the demographics data for the general population into a pandas DataFrame, and do the same for the feature attributes summary. Note for all of the `.csv` data files in this project: they're semicolon (`;`) delimited, so you'll need an additional argument in your [`read_csv()`](https://pandas.pydata.org/pandas-docs/stable/generated/pandas.read_csv.html) call to read in the data properly. Also, considering the size of the main dataset, it may take some time for it to load completely.\n",
    "\n",
    "Once the dataset is loaded, it's recommended that you take a little bit of time just browsing the general structure of the dataset and feature summary file. You'll be getting deep into the innards of the cleaning in the first major step of the project, so gaining some general familiarity can help you get your bearings."
   ]
  },
  {
   "cell_type": "code",
   "execution_count": 56,
   "metadata": {},
   "outputs": [],
   "source": [
    "# Load in the general demographics data.\n",
    "\n",
    "azdias = pd.read_csv(\"Udacity_AZDIAS_Subset.csv\", delimiter= \";\")\n",
    "\n",
    "# Load in the feature summary file.\n",
    "\n",
    "feat_info = pd.read_csv(\"AZDIAS_Feature_Summary.csv\", delimiter = \";\" ,error_bad_lines=False)"
   ]
  },
  {
   "cell_type": "code",
   "execution_count": 57,
   "metadata": {},
   "outputs": [
    {
     "name": "stdout",
     "output_type": "stream",
     "text": [
      "(891221, 85)\n",
      "(85, 4)\n"
     ]
    }
   ],
   "source": [
    "# Check the structure of the data after it's loaded (e.g. print the number of\n",
    "# rows and columns, print the first few rows).\n",
    "\n",
    "print(azdias.shape)\n",
    "print(feat_info.shape)"
   ]
  },
  {
   "cell_type": "code",
   "execution_count": 58,
   "metadata": {},
   "outputs": [
    {
     "data": {
      "text/html": [
       "<div>\n",
       "<style scoped>\n",
       "    .dataframe tbody tr th:only-of-type {\n",
       "        vertical-align: middle;\n",
       "    }\n",
       "\n",
       "    .dataframe tbody tr th {\n",
       "        vertical-align: top;\n",
       "    }\n",
       "\n",
       "    .dataframe thead th {\n",
       "        text-align: right;\n",
       "    }\n",
       "</style>\n",
       "<table border=\"1\" class=\"dataframe\">\n",
       "  <thead>\n",
       "    <tr style=\"text-align: right;\">\n",
       "      <th></th>\n",
       "      <th>AGER_TYP</th>\n",
       "      <th>ALTERSKATEGORIE_GROB</th>\n",
       "      <th>ANREDE_KZ</th>\n",
       "      <th>CJT_GESAMTTYP</th>\n",
       "      <th>FINANZ_MINIMALIST</th>\n",
       "      <th>FINANZ_SPARER</th>\n",
       "      <th>FINANZ_VORSORGER</th>\n",
       "      <th>FINANZ_ANLEGER</th>\n",
       "      <th>FINANZ_UNAUFFAELLIGER</th>\n",
       "      <th>FINANZ_HAUSBAUER</th>\n",
       "      <th>...</th>\n",
       "      <th>PLZ8_ANTG1</th>\n",
       "      <th>PLZ8_ANTG2</th>\n",
       "      <th>PLZ8_ANTG3</th>\n",
       "      <th>PLZ8_ANTG4</th>\n",
       "      <th>PLZ8_BAUMAX</th>\n",
       "      <th>PLZ8_HHZ</th>\n",
       "      <th>PLZ8_GBZ</th>\n",
       "      <th>ARBEIT</th>\n",
       "      <th>ORTSGR_KLS9</th>\n",
       "      <th>RELAT_AB</th>\n",
       "    </tr>\n",
       "  </thead>\n",
       "  <tbody>\n",
       "    <tr>\n",
       "      <th>0</th>\n",
       "      <td>-1</td>\n",
       "      <td>2</td>\n",
       "      <td>1</td>\n",
       "      <td>2.0</td>\n",
       "      <td>3</td>\n",
       "      <td>4</td>\n",
       "      <td>3</td>\n",
       "      <td>5</td>\n",
       "      <td>5</td>\n",
       "      <td>3</td>\n",
       "      <td>...</td>\n",
       "      <td>NaN</td>\n",
       "      <td>NaN</td>\n",
       "      <td>NaN</td>\n",
       "      <td>NaN</td>\n",
       "      <td>NaN</td>\n",
       "      <td>NaN</td>\n",
       "      <td>NaN</td>\n",
       "      <td>NaN</td>\n",
       "      <td>NaN</td>\n",
       "      <td>NaN</td>\n",
       "    </tr>\n",
       "    <tr>\n",
       "      <th>1</th>\n",
       "      <td>-1</td>\n",
       "      <td>1</td>\n",
       "      <td>2</td>\n",
       "      <td>5.0</td>\n",
       "      <td>1</td>\n",
       "      <td>5</td>\n",
       "      <td>2</td>\n",
       "      <td>5</td>\n",
       "      <td>4</td>\n",
       "      <td>5</td>\n",
       "      <td>...</td>\n",
       "      <td>2.0</td>\n",
       "      <td>3.0</td>\n",
       "      <td>2.0</td>\n",
       "      <td>1.0</td>\n",
       "      <td>1.0</td>\n",
       "      <td>5.0</td>\n",
       "      <td>4.0</td>\n",
       "      <td>3.0</td>\n",
       "      <td>5.0</td>\n",
       "      <td>4.0</td>\n",
       "    </tr>\n",
       "    <tr>\n",
       "      <th>2</th>\n",
       "      <td>-1</td>\n",
       "      <td>3</td>\n",
       "      <td>2</td>\n",
       "      <td>3.0</td>\n",
       "      <td>1</td>\n",
       "      <td>4</td>\n",
       "      <td>1</td>\n",
       "      <td>2</td>\n",
       "      <td>3</td>\n",
       "      <td>5</td>\n",
       "      <td>...</td>\n",
       "      <td>3.0</td>\n",
       "      <td>3.0</td>\n",
       "      <td>1.0</td>\n",
       "      <td>0.0</td>\n",
       "      <td>1.0</td>\n",
       "      <td>4.0</td>\n",
       "      <td>4.0</td>\n",
       "      <td>3.0</td>\n",
       "      <td>5.0</td>\n",
       "      <td>2.0</td>\n",
       "    </tr>\n",
       "    <tr>\n",
       "      <th>3</th>\n",
       "      <td>2</td>\n",
       "      <td>4</td>\n",
       "      <td>2</td>\n",
       "      <td>2.0</td>\n",
       "      <td>4</td>\n",
       "      <td>2</td>\n",
       "      <td>5</td>\n",
       "      <td>2</td>\n",
       "      <td>1</td>\n",
       "      <td>2</td>\n",
       "      <td>...</td>\n",
       "      <td>2.0</td>\n",
       "      <td>2.0</td>\n",
       "      <td>2.0</td>\n",
       "      <td>0.0</td>\n",
       "      <td>1.0</td>\n",
       "      <td>3.0</td>\n",
       "      <td>4.0</td>\n",
       "      <td>2.0</td>\n",
       "      <td>3.0</td>\n",
       "      <td>3.0</td>\n",
       "    </tr>\n",
       "    <tr>\n",
       "      <th>4</th>\n",
       "      <td>-1</td>\n",
       "      <td>3</td>\n",
       "      <td>1</td>\n",
       "      <td>5.0</td>\n",
       "      <td>4</td>\n",
       "      <td>3</td>\n",
       "      <td>4</td>\n",
       "      <td>1</td>\n",
       "      <td>3</td>\n",
       "      <td>2</td>\n",
       "      <td>...</td>\n",
       "      <td>2.0</td>\n",
       "      <td>4.0</td>\n",
       "      <td>2.0</td>\n",
       "      <td>1.0</td>\n",
       "      <td>2.0</td>\n",
       "      <td>3.0</td>\n",
       "      <td>3.0</td>\n",
       "      <td>4.0</td>\n",
       "      <td>6.0</td>\n",
       "      <td>5.0</td>\n",
       "    </tr>\n",
       "  </tbody>\n",
       "</table>\n",
       "<p>5 rows × 85 columns</p>\n",
       "</div>"
      ],
      "text/plain": [
       "   AGER_TYP  ALTERSKATEGORIE_GROB  ANREDE_KZ  CJT_GESAMTTYP  \\\n",
       "0        -1                     2          1            2.0   \n",
       "1        -1                     1          2            5.0   \n",
       "2        -1                     3          2            3.0   \n",
       "3         2                     4          2            2.0   \n",
       "4        -1                     3          1            5.0   \n",
       "\n",
       "   FINANZ_MINIMALIST  FINANZ_SPARER  FINANZ_VORSORGER  FINANZ_ANLEGER  \\\n",
       "0                  3              4                 3               5   \n",
       "1                  1              5                 2               5   \n",
       "2                  1              4                 1               2   \n",
       "3                  4              2                 5               2   \n",
       "4                  4              3                 4               1   \n",
       "\n",
       "   FINANZ_UNAUFFAELLIGER  FINANZ_HAUSBAUER    ...     PLZ8_ANTG1  PLZ8_ANTG2  \\\n",
       "0                      5                 3    ...            NaN         NaN   \n",
       "1                      4                 5    ...            2.0         3.0   \n",
       "2                      3                 5    ...            3.0         3.0   \n",
       "3                      1                 2    ...            2.0         2.0   \n",
       "4                      3                 2    ...            2.0         4.0   \n",
       "\n",
       "   PLZ8_ANTG3  PLZ8_ANTG4  PLZ8_BAUMAX  PLZ8_HHZ  PLZ8_GBZ  ARBEIT  \\\n",
       "0         NaN         NaN          NaN       NaN       NaN     NaN   \n",
       "1         2.0         1.0          1.0       5.0       4.0     3.0   \n",
       "2         1.0         0.0          1.0       4.0       4.0     3.0   \n",
       "3         2.0         0.0          1.0       3.0       4.0     2.0   \n",
       "4         2.0         1.0          2.0       3.0       3.0     4.0   \n",
       "\n",
       "   ORTSGR_KLS9  RELAT_AB  \n",
       "0          NaN       NaN  \n",
       "1          5.0       4.0  \n",
       "2          5.0       2.0  \n",
       "3          3.0       3.0  \n",
       "4          6.0       5.0  \n",
       "\n",
       "[5 rows x 85 columns]"
      ]
     },
     "execution_count": 58,
     "metadata": {},
     "output_type": "execute_result"
    }
   ],
   "source": [
    "azdias.head()"
   ]
  },
  {
   "cell_type": "code",
   "execution_count": 59,
   "metadata": {},
   "outputs": [
    {
     "data": {
      "text/html": [
       "<div>\n",
       "<style scoped>\n",
       "    .dataframe tbody tr th:only-of-type {\n",
       "        vertical-align: middle;\n",
       "    }\n",
       "\n",
       "    .dataframe tbody tr th {\n",
       "        vertical-align: top;\n",
       "    }\n",
       "\n",
       "    .dataframe thead th {\n",
       "        text-align: right;\n",
       "    }\n",
       "</style>\n",
       "<table border=\"1\" class=\"dataframe\">\n",
       "  <thead>\n",
       "    <tr style=\"text-align: right;\">\n",
       "      <th></th>\n",
       "      <th>attribute</th>\n",
       "      <th>information_level</th>\n",
       "      <th>type</th>\n",
       "      <th>missing_or_unknown</th>\n",
       "    </tr>\n",
       "  </thead>\n",
       "  <tbody>\n",
       "    <tr>\n",
       "      <th>0</th>\n",
       "      <td>AGER_TYP</td>\n",
       "      <td>person</td>\n",
       "      <td>categorical</td>\n",
       "      <td>[-1,0]</td>\n",
       "    </tr>\n",
       "    <tr>\n",
       "      <th>1</th>\n",
       "      <td>ALTERSKATEGORIE_GROB</td>\n",
       "      <td>person</td>\n",
       "      <td>ordinal</td>\n",
       "      <td>[-1,0,9]</td>\n",
       "    </tr>\n",
       "    <tr>\n",
       "      <th>2</th>\n",
       "      <td>ANREDE_KZ</td>\n",
       "      <td>person</td>\n",
       "      <td>categorical</td>\n",
       "      <td>[-1,0]</td>\n",
       "    </tr>\n",
       "    <tr>\n",
       "      <th>3</th>\n",
       "      <td>CJT_GESAMTTYP</td>\n",
       "      <td>person</td>\n",
       "      <td>categorical</td>\n",
       "      <td>[0]</td>\n",
       "    </tr>\n",
       "    <tr>\n",
       "      <th>4</th>\n",
       "      <td>FINANZ_MINIMALIST</td>\n",
       "      <td>person</td>\n",
       "      <td>ordinal</td>\n",
       "      <td>[-1]</td>\n",
       "    </tr>\n",
       "  </tbody>\n",
       "</table>\n",
       "</div>"
      ],
      "text/plain": [
       "              attribute information_level         type missing_or_unknown\n",
       "0              AGER_TYP            person  categorical             [-1,0]\n",
       "1  ALTERSKATEGORIE_GROB            person      ordinal           [-1,0,9]\n",
       "2             ANREDE_KZ            person  categorical             [-1,0]\n",
       "3         CJT_GESAMTTYP            person  categorical                [0]\n",
       "4     FINANZ_MINIMALIST            person      ordinal               [-1]"
      ]
     },
     "execution_count": 59,
     "metadata": {},
     "output_type": "execute_result"
    }
   ],
   "source": [
    "feat_info.head()"
   ]
  },
  {
   "cell_type": "markdown",
   "metadata": {},
   "source": [
    "> **Tip**: Add additional cells to keep everything in reasonably-sized chunks! Keyboard shortcut `esc --> a` (press escape to enter command mode, then press the 'A' key) adds a new cell before the active cell, and `esc --> b` adds a new cell after the active cell. If you need to convert an active cell to a markdown cell, use `esc --> m` and to convert to a code cell, use `esc --> y`. \n",
    "\n",
    "## Step 1: Preprocessing\n",
    "\n",
    "### Step 1.1: Assess Missing Data\n",
    "\n",
    "The feature summary file contains a summary of properties for each demographics data column. You will use this file to help you make cleaning decisions during this stage of the project. First of all, you should assess the demographics data in terms of missing data. Pay attention to the following points as you perform your analysis, and take notes on what you observe. Make sure that you fill in the **Discussion** cell with your findings and decisions at the end of each step that has one!\n",
    "\n",
    "#### Step 1.1.1: Convert Missing Value Codes to NaNs\n",
    "The fourth column of the feature attributes summary (loaded in above as `feat_info`) documents the codes from the data dictionary that indicate missing or unknown data. While the file encodes this as a list (e.g. `[-1,0]`), this will get read in as a string object. You'll need to do a little bit of parsing to make use of it to identify and clean the data. Convert data that matches a 'missing' or 'unknown' value code into a numpy NaN value. You might want to see how much data takes on a 'missing' or 'unknown' code, and how much data is naturally missing, as a point of interest.\n",
    "\n",
    "**As one more reminder, you are encouraged to add additional cells to break up your analysis into manageable chunks.**"
   ]
  },
  {
   "cell_type": "code",
   "execution_count": 60,
   "metadata": {},
   "outputs": [
    {
     "data": {
      "text/plain": [
       "4896838"
      ]
     },
     "execution_count": 60,
     "metadata": {},
     "output_type": "execute_result"
    }
   ],
   "source": [
    "# Identify missing or unknown data values and convert them to NaNs.\n",
    "\n",
    "azdias.isnull().sum().sum()"
   ]
  },
  {
   "cell_type": "code",
   "execution_count": 61,
   "metadata": {},
   "outputs": [],
   "source": [
    "\n",
    "def replace_missing(data):\n",
    "\n",
    "    for j in range(feat_info.shape[0]):\n",
    "        x = feat_info.iloc[j,3]\n",
    "\n",
    "        res = x.strip('][').split(',')\n",
    "        new_list = []\n",
    "\n",
    "        for i in res:\n",
    "                try:\n",
    "                    new_list.append(int(i))\n",
    "                except:\n",
    "                    new_list.append(i)\n",
    "\n",
    "        nan_data = data.iloc[:,j].replace(new_list, np.NaN, inplace = True)\n",
    "    return nan_data \n"
   ]
  },
  {
   "cell_type": "code",
   "execution_count": 62,
   "metadata": {},
   "outputs": [
    {
     "data": {
      "text/plain": [
       "8373929"
      ]
     },
     "execution_count": 62,
     "metadata": {},
     "output_type": "execute_result"
    }
   ],
   "source": [
    "replace_missing(azdias)\n",
    "azdias.isnull().sum().sum()"
   ]
  },
  {
   "cell_type": "markdown",
   "metadata": {},
   "source": [
    "#### Step 1.1.2: Assess Missing Data in Each Column\n",
    "\n",
    "How much missing data is present in each column? There are a few columns that are outliers in terms of the proportion of values that are missing. You will want to use matplotlib's [`hist()`](https://matplotlib.org/api/_as_gen/matplotlib.pyplot.hist.html) function to visualize the distribution of missing value counts to find these columns. Identify and document these columns. While some of these columns might have justifications for keeping or re-encoding the data, for this project you should just remove them from the dataframe. (Feel free to make remarks about these outlier columns in the discussion, however!)\n",
    "\n",
    "For the remaining features, are there any patterns in which columns have, or share, missing data?"
   ]
  },
  {
   "cell_type": "code",
   "execution_count": 63,
   "metadata": {
    "scrolled": true
   },
   "outputs": [
    {
     "data": {
      "image/png": "[encoded data removed]",
      "text/plain": [
       "<matplotlib.figure.Figure at 0x7f09a283fc50>"
      ]
     },
     "metadata": {
      "needs_background": "light"
     },
     "output_type": "display_data"
    }
   ],
   "source": [
    "# Perform an assessment of how much missing data there is in each column of the\n",
    "# dataset.\n",
    "\n",
    "missing_values = azdias.isnull().sum()\n",
    "missing_prop = missing_values/int(azdias.shape[0])*100\n",
    "y = azdias.columns.values.tolist()\n",
    "\n",
    "\n",
    "m_p = pd.DataFrame(y)\n",
    "\n",
    "\n",
    "\n",
    "m_p['missing_values'] = missing_prop.tolist()\n",
    "m_p.columns = ['feature_name', 'missing_values_prop']\n",
    "\n",
    "\n",
    "#x = m_p['feature_name']\n",
    "\n",
    "#print(m_p)\n",
    "fig = plt.figure(figsize = (30,15))\n",
    "# plt.hist(m_p)\n",
    "\n",
    "\n",
    "x = m_p['feature_name']\n",
    "y = m_p['missing_values_prop']\n",
    "\n",
    "plt.bar(x, y, color='blue')\n",
    "\n",
    "plt.show()\n",
    "\n",
    "\n",
    "# #print(type(missing_prop))\n",
    "# #m_p.sort_values(['missing_values_prop'] , ascending = False)\n",
    "\n",
    "#print(y)"
   ]
  },
  {
   "cell_type": "code",
   "execution_count": 64,
   "metadata": {},
   "outputs": [
    {
     "data": {
      "text/html": [
       "<div>\n",
       "<style scoped>\n",
       "    .dataframe tbody tr th:only-of-type {\n",
       "        vertical-align: middle;\n",
       "    }\n",
       "\n",
       "    .dataframe tbody tr th {\n",
       "        vertical-align: top;\n",
       "    }\n",
       "\n",
       "    .dataframe thead th {\n",
       "        text-align: right;\n",
       "    }\n",
       "</style>\n",
       "<table border=\"1\" class=\"dataframe\">\n",
       "  <thead>\n",
       "    <tr style=\"text-align: right;\">\n",
       "      <th></th>\n",
       "      <th>feature_name</th>\n",
       "      <th>missing_values_prop</th>\n",
       "    </tr>\n",
       "  </thead>\n",
       "  <tbody>\n",
       "    <tr>\n",
       "      <th>40</th>\n",
       "      <td>TITEL_KZ</td>\n",
       "      <td>99.757636</td>\n",
       "    </tr>\n",
       "    <tr>\n",
       "      <th>0</th>\n",
       "      <td>AGER_TYP</td>\n",
       "      <td>76.955435</td>\n",
       "    </tr>\n",
       "    <tr>\n",
       "      <th>47</th>\n",
       "      <td>KK_KUNDENTYP</td>\n",
       "      <td>65.596749</td>\n",
       "    </tr>\n",
       "    <tr>\n",
       "      <th>64</th>\n",
       "      <td>KBA05_BAUMAX</td>\n",
       "      <td>53.468668</td>\n",
       "    </tr>\n",
       "    <tr>\n",
       "      <th>11</th>\n",
       "      <td>GEBURTSJAHR</td>\n",
       "      <td>44.020282</td>\n",
       "    </tr>\n",
       "    <tr>\n",
       "      <th>43</th>\n",
       "      <td>ALTER_HH</td>\n",
       "      <td>34.813699</td>\n",
       "    </tr>\n",
       "    <tr>\n",
       "      <th>70</th>\n",
       "      <td>KKK</td>\n",
       "      <td>17.735668</td>\n",
       "    </tr>\n",
       "    <tr>\n",
       "      <th>73</th>\n",
       "      <td>REGIOTYP</td>\n",
       "      <td>17.735668</td>\n",
       "    </tr>\n",
       "    <tr>\n",
       "      <th>48</th>\n",
       "      <td>W_KEIT_KIND_HH</td>\n",
       "      <td>16.605084</td>\n",
       "    </tr>\n",
       "    <tr>\n",
       "      <th>60</th>\n",
       "      <td>KBA05_ANTG1</td>\n",
       "      <td>14.959701</td>\n",
       "    </tr>\n",
       "    <tr>\n",
       "      <th>61</th>\n",
       "      <td>KBA05_ANTG2</td>\n",
       "      <td>14.959701</td>\n",
       "    </tr>\n",
       "    <tr>\n",
       "      <th>62</th>\n",
       "      <td>KBA05_ANTG3</td>\n",
       "      <td>14.959701</td>\n",
       "    </tr>\n",
       "    <tr>\n",
       "      <th>63</th>\n",
       "      <td>KBA05_ANTG4</td>\n",
       "      <td>14.959701</td>\n",
       "    </tr>\n",
       "    <tr>\n",
       "      <th>65</th>\n",
       "      <td>KBA05_GBZ</td>\n",
       "      <td>14.959701</td>\n",
       "    </tr>\n",
       "    <tr>\n",
       "      <th>71</th>\n",
       "      <td>MOBI_REGIO</td>\n",
       "      <td>14.959701</td>\n",
       "    </tr>\n",
       "    <tr>\n",
       "      <th>77</th>\n",
       "      <td>PLZ8_ANTG3</td>\n",
       "      <td>13.073637</td>\n",
       "    </tr>\n",
       "    <tr>\n",
       "      <th>76</th>\n",
       "      <td>PLZ8_ANTG2</td>\n",
       "      <td>13.073637</td>\n",
       "    </tr>\n",
       "    <tr>\n",
       "      <th>81</th>\n",
       "      <td>PLZ8_GBZ</td>\n",
       "      <td>13.073637</td>\n",
       "    </tr>\n",
       "    <tr>\n",
       "      <th>80</th>\n",
       "      <td>PLZ8_HHZ</td>\n",
       "      <td>13.073637</td>\n",
       "    </tr>\n",
       "    <tr>\n",
       "      <th>75</th>\n",
       "      <td>PLZ8_ANTG1</td>\n",
       "      <td>13.073637</td>\n",
       "    </tr>\n",
       "    <tr>\n",
       "      <th>79</th>\n",
       "      <td>PLZ8_BAUMAX</td>\n",
       "      <td>13.073637</td>\n",
       "    </tr>\n",
       "    <tr>\n",
       "      <th>78</th>\n",
       "      <td>PLZ8_ANTG4</td>\n",
       "      <td>13.073637</td>\n",
       "    </tr>\n",
       "    <tr>\n",
       "      <th>41</th>\n",
       "      <td>VERS_TYP</td>\n",
       "      <td>12.476816</td>\n",
       "    </tr>\n",
       "    <tr>\n",
       "      <th>14</th>\n",
       "      <td>HEALTH_TYP</td>\n",
       "      <td>12.476816</td>\n",
       "    </tr>\n",
       "    <tr>\n",
       "      <th>38</th>\n",
       "      <td>SHOPPER_TYP</td>\n",
       "      <td>12.476816</td>\n",
       "    </tr>\n",
       "    <tr>\n",
       "      <th>21</th>\n",
       "      <td>NATIONALITAET_KZ</td>\n",
       "      <td>12.153551</td>\n",
       "    </tr>\n",
       "    <tr>\n",
       "      <th>22</th>\n",
       "      <td>PRAEGENDE_JUGENDJAHRE</td>\n",
       "      <td>12.136608</td>\n",
       "    </tr>\n",
       "    <tr>\n",
       "      <th>74</th>\n",
       "      <td>KBA13_ANZAHL_PKW</td>\n",
       "      <td>11.871354</td>\n",
       "    </tr>\n",
       "    <tr>\n",
       "      <th>50</th>\n",
       "      <td>ANZ_HAUSHALTE_AKTIV</td>\n",
       "      <td>11.176913</td>\n",
       "    </tr>\n",
       "    <tr>\n",
       "      <th>59</th>\n",
       "      <td>CAMEO_INTL_2015</td>\n",
       "      <td>11.147852</td>\n",
       "    </tr>\n",
       "    <tr>\n",
       "      <th>58</th>\n",
       "      <td>CAMEO_DEU_2015</td>\n",
       "      <td>11.147852</td>\n",
       "    </tr>\n",
       "    <tr>\n",
       "      <th>57</th>\n",
       "      <td>CAMEO_DEUG_2015</td>\n",
       "      <td>11.147852</td>\n",
       "    </tr>\n",
       "    <tr>\n",
       "      <th>15</th>\n",
       "      <td>LP_LEBENSPHASE_FEIN</td>\n",
       "      <td>10.954859</td>\n",
       "    </tr>\n",
       "    <tr>\n",
       "      <th>82</th>\n",
       "      <td>ARBEIT</td>\n",
       "      <td>10.926022</td>\n",
       "    </tr>\n",
       "    <tr>\n",
       "      <th>84</th>\n",
       "      <td>RELAT_AB</td>\n",
       "      <td>10.926022</td>\n",
       "    </tr>\n",
       "    <tr>\n",
       "      <th>83</th>\n",
       "      <td>ORTSGR_KLS9</td>\n",
       "      <td>10.914689</td>\n",
       "    </tr>\n",
       "    <tr>\n",
       "      <th>51</th>\n",
       "      <td>ANZ_HH_TITEL</td>\n",
       "      <td>10.884842</td>\n",
       "    </tr>\n",
       "    <tr>\n",
       "      <th>16</th>\n",
       "      <td>LP_LEBENSPHASE_GROB</td>\n",
       "      <td>10.611509</td>\n",
       "    </tr>\n",
       "    <tr>\n",
       "      <th>68</th>\n",
       "      <td>INNENSTADT</td>\n",
       "      <td>10.518154</td>\n",
       "    </tr>\n",
       "    <tr>\n",
       "      <th>67</th>\n",
       "      <td>EWDICHTE</td>\n",
       "      <td>10.518154</td>\n",
       "    </tr>\n",
       "    <tr>\n",
       "      <th>66</th>\n",
       "      <td>BALLRAUM</td>\n",
       "      <td>10.518154</td>\n",
       "    </tr>\n",
       "    <tr>\n",
       "      <th>69</th>\n",
       "      <td>GEBAEUDETYP_RASTER</td>\n",
       "      <td>10.452514</td>\n",
       "    </tr>\n",
       "    <tr>\n",
       "      <th>56</th>\n",
       "      <td>WOHNLAGE</td>\n",
       "      <td>10.451729</td>\n",
       "    </tr>\n",
       "    <tr>\n",
       "      <th>55</th>\n",
       "      <td>OST_WEST_KZ</td>\n",
       "      <td>10.451729</td>\n",
       "    </tr>\n",
       "    <tr>\n",
       "      <th>54</th>\n",
       "      <td>MIN_GEBAEUDEJAHR</td>\n",
       "      <td>10.451729</td>\n",
       "    </tr>\n",
       "    <tr>\n",
       "      <th>52</th>\n",
       "      <td>GEBAEUDETYP</td>\n",
       "      <td>10.451729</td>\n",
       "    </tr>\n",
       "    <tr>\n",
       "      <th>17</th>\n",
       "      <td>LP_FAMILIE_FEIN</td>\n",
       "      <td>8.728699</td>\n",
       "    </tr>\n",
       "    <tr>\n",
       "      <th>18</th>\n",
       "      <td>LP_FAMILIE_GROB</td>\n",
       "      <td>8.728699</td>\n",
       "    </tr>\n",
       "    <tr>\n",
       "      <th>53</th>\n",
       "      <td>KONSUMNAEHE</td>\n",
       "      <td>8.299737</td>\n",
       "    </tr>\n",
       "    <tr>\n",
       "      <th>49</th>\n",
       "      <td>WOHNDAUER_2008</td>\n",
       "      <td>8.247000</td>\n",
       "    </tr>\n",
       "  </tbody>\n",
       "</table>\n",
       "</div>"
      ],
      "text/plain": [
       "             feature_name  missing_values_prop\n",
       "40               TITEL_KZ            99.757636\n",
       "0                AGER_TYP            76.955435\n",
       "47           KK_KUNDENTYP            65.596749\n",
       "64           KBA05_BAUMAX            53.468668\n",
       "11            GEBURTSJAHR            44.020282\n",
       "43               ALTER_HH            34.813699\n",
       "70                    KKK            17.735668\n",
       "73               REGIOTYP            17.735668\n",
       "48         W_KEIT_KIND_HH            16.605084\n",
       "60            KBA05_ANTG1            14.959701\n",
       "61            KBA05_ANTG2            14.959701\n",
       "62            KBA05_ANTG3            14.959701\n",
       "63            KBA05_ANTG4            14.959701\n",
       "65              KBA05_GBZ            14.959701\n",
       "71             MOBI_REGIO            14.959701\n",
       "77             PLZ8_ANTG3            13.073637\n",
       "76             PLZ8_ANTG2            13.073637\n",
       "81               PLZ8_GBZ            13.073637\n",
       "80               PLZ8_HHZ            13.073637\n",
       "75             PLZ8_ANTG1            13.073637\n",
       "79            PLZ8_BAUMAX            13.073637\n",
       "78             PLZ8_ANTG4            13.073637\n",
       "41               VERS_TYP            12.476816\n",
       "14             HEALTH_TYP            12.476816\n",
       "38            SHOPPER_TYP            12.476816\n",
       "21       NATIONALITAET_KZ            12.153551\n",
       "22  PRAEGENDE_JUGENDJAHRE            12.136608\n",
       "74       KBA13_ANZAHL_PKW            11.871354\n",
       "50    ANZ_HAUSHALTE_AKTIV            11.176913\n",
       "59        CAMEO_INTL_2015            11.147852\n",
       "58         CAMEO_DEU_2015            11.147852\n",
       "57        CAMEO_DEUG_2015            11.147852\n",
       "15    LP_LEBENSPHASE_FEIN            10.954859\n",
       "82                 ARBEIT            10.926022\n",
       "84               RELAT_AB            10.926022\n",
       "83            ORTSGR_KLS9            10.914689\n",
       "51           ANZ_HH_TITEL            10.884842\n",
       "16    LP_LEBENSPHASE_GROB            10.611509\n",
       "68             INNENSTADT            10.518154\n",
       "67               EWDICHTE            10.518154\n",
       "66               BALLRAUM            10.518154\n",
       "69     GEBAEUDETYP_RASTER            10.452514\n",
       "56               WOHNLAGE            10.451729\n",
       "55            OST_WEST_KZ            10.451729\n",
       "54       MIN_GEBAEUDEJAHR            10.451729\n",
       "52            GEBAEUDETYP            10.451729\n",
       "17        LP_FAMILIE_FEIN             8.728699\n",
       "18        LP_FAMILIE_GROB             8.728699\n",
       "53            KONSUMNAEHE             8.299737\n",
       "49         WOHNDAUER_2008             8.247000"
      ]
     },
     "execution_count": 64,
     "metadata": {},
     "output_type": "execute_result"
    }
   ],
   "source": [
    "m_p.sort_values(['missing_values_prop'] , ascending = False).head(50)\n"
   ]
  },
  {
   "cell_type": "code",
   "execution_count": 65,
   "metadata": {},
   "outputs": [],
   "source": [
    "# Remove the outlier columns from the dataset. (You'll perform other data\n",
    "# engineering tasks such as re-encoding and imputation later.)\n",
    "\n",
    "\n",
    "drop_columns =[]\n",
    "\n",
    "for i in range(m_p.shape[0]):\n",
    "    if m_p.iloc[i,1]>= 20:\n",
    "        drop = m_p.iloc[i,0]\n",
    "        drop_columns.append(drop)\n",
    "\n",
    "azdias.drop(drop_columns, axis = 1, inplace = True)"
   ]
  },
  {
   "cell_type": "markdown",
   "metadata": {},
   "source": [
    "#### Discussion 1.1.2: Assess Missing Data in Each Column\n",
    "\n",
    "***Discuss the Amount of missing data in each column. Are there any patterns in missing values? Which columns were removed from the dataset?***\n",
    "\n",
    "Plotting the proportions of missing values in each column shows that there are six features with a proportion of missing values greater than 20 percent, which appears to be relatively higher than the other features.\n",
    "\n",
    "The data has features that contain demographic information at different levels: Person level, Household hold level, Building level, etc. It is observed that when there are missing values, the proportion of missing values of featrues withiin a level of features is usually similar.\n",
    "\n",
    "In order to avoid bias in the results, the features which have 20 percent or more observations missing are excluded from the dataset."
   ]
  },
  {
   "cell_type": "markdown",
   "metadata": {},
   "source": [
    "#### Step 1.1.3: Assess Missing Data in Each Row\n",
    "\n",
    "Now, you'll perform a similar assessment for the rows of the dataset. How much data is missing in each row? As with the columns, you should see some groups of points that have a very different numbers of missing values. Divide the data into two subsets: one for data points that are above some threshold for missing values, and a second subset for points below that threshold.\n",
    "\n",
    "In order to know what to do with the outlier rows, we should see if the distribution of data values on columns that are not missing data (or are missing very little data) are similar or different between the two groups. Select at least five of these columns and compare the distribution of values.\n",
    "- You can use seaborn's [`countplot()`](https://seaborn.pydata.org/generated/seaborn.countplot.html) function to create a bar chart of code frequencies and matplotlib's [`subplot()`](https://matplotlib.org/api/_as_gen/matplotlib.pyplot.subplot.html) function to put bar charts for the two subplots side by side.\n",
    "- To reduce repeated code, you might want to write a function that can perform this comparison, taking as one of its arguments a column to be compared.\n",
    "\n",
    "Depending on what you observe in your comparison, this will have implications on how you approach your conclusions later in the analysis. If the distributions of non-missing features look similar between the data with many missing values and the data with few or no missing values, then we could argue that simply dropping those points from the analysis won't present a major issue. On the other hand, if the data with many missing values looks very different from the data with few or no missing values, then we should make a note on those data as special. We'll revisit these data later on. **Either way, you should continue your analysis for now using just the subset of the data with few or no missing values.**"
   ]
  },
  {
   "cell_type": "code",
   "execution_count": 66,
   "metadata": {},
   "outputs": [
    {
     "name": "stdout",
     "output_type": "stream",
     "text": [
      "0         43\n",
      "1          0\n",
      "2          0\n",
      "3          7\n",
      "4          0\n",
      "5          0\n",
      "6          0\n",
      "7          0\n",
      "8          0\n",
      "9          0\n",
      "10         0\n",
      "11        47\n",
      "12         6\n",
      "13         8\n",
      "14        47\n",
      "15         8\n",
      "16         6\n",
      "17        47\n",
      "18         3\n",
      "19         0\n",
      "20        10\n",
      "21         0\n",
      "22         0\n",
      "23         8\n",
      "24        47\n",
      "25         5\n",
      "26        19\n",
      "27         0\n",
      "28         0\n",
      "29         2\n",
      "          ..\n",
      "891191     0\n",
      "891192     0\n",
      "891193     0\n",
      "891194     0\n",
      "891195     0\n",
      "891196     0\n",
      "891197     0\n",
      "891198     0\n",
      "891199     0\n",
      "891200     0\n",
      "891201     0\n",
      "891202     0\n",
      "891203    14\n",
      "891204     0\n",
      "891205     0\n",
      "891206     0\n",
      "891207     0\n",
      "891208     3\n",
      "891209     0\n",
      "891210     0\n",
      "891211     0\n",
      "891212     0\n",
      "891213     0\n",
      "891214     0\n",
      "891215     0\n",
      "891216     3\n",
      "891217     4\n",
      "891218     5\n",
      "891219     0\n",
      "891220     0\n",
      "Length: 891221, dtype: int64\n"
     ]
    }
   ],
   "source": [
    "# How much data is missing in each row of the dataset?\n",
    "\n",
    "x= azdias.isnull().sum(axis=1)\n",
    "\n",
    "\n",
    "\n",
    "missing_rows =[]\n",
    "\n",
    "for i in range(len(x)):\n",
    "    if x[i]> 0:\n",
    "        row = x[i]\n",
    "        missing_rows.append(row)\n",
    "\n",
    "\n",
    "#print(missing_rows)\n",
    "#sorted(missing_rows)\n",
    "# print(max(missing_rows))\n",
    "# print(min(missing_rows))\n",
    "print(x)\n"
   ]
  },
  {
   "cell_type": "code",
   "execution_count": 67,
   "metadata": {},
   "outputs": [],
   "source": [
    "# Write code to divide the data into two subsets based on the number of missing\n",
    "# values in each row.\n",
    "\n",
    "threshold = 15\n",
    "\n",
    "\n",
    "def drop_rows(data):\n",
    "    above = []\n",
    "    below = []\n",
    "    x= data.isnull().sum(axis=1)\n",
    "\n",
    "    for i in range(len(data)):\n",
    "        if x[i] >= threshold:\n",
    "            above_index = i\n",
    "            above.append(above_index)\n",
    "        else:\n",
    "            below_index = i\n",
    "            below.append(below_index)\n",
    "    df_above = azdias.iloc[above, :]\n",
    "    df_below = azdias.iloc[below, :]\n",
    "    return df_above, df_below"
   ]
  },
  {
   "cell_type": "code",
   "execution_count": 68,
   "metadata": {},
   "outputs": [],
   "source": [
    "df_above, df_below = drop_rows(azdias)"
   ]
  },
  {
   "cell_type": "code",
   "execution_count": 69,
   "metadata": {},
   "outputs": [
    {
     "data": {
      "text/plain": [
       "(787544, 79)"
      ]
     },
     "execution_count": 69,
     "metadata": {},
     "output_type": "execute_result"
    }
   ],
   "source": [
    "df_below.shape"
   ]
  },
  {
   "cell_type": "code",
   "execution_count": 70,
   "metadata": {},
   "outputs": [
    {
     "data": {
      "image/png": "[encoded data removed]",
      "text/plain": [
       "<matplotlib.figure.Figure at 0x7f0994eb7278>"
      ]
     },
     "metadata": {
      "needs_background": "light"
     },
     "output_type": "display_data"
    },
    {
     "data": {
      "image/png": "[encoded data removed]",
      "text/plain": [
       "<matplotlib.figure.Figure at 0x7f09952a5b38>"
      ]
     },
     "metadata": {
      "needs_background": "light"
     },
     "output_type": "display_data"
    },
    {
     "data": {
      "image/png": "[encoded data removed]",
      "text/plain": [
       "<matplotlib.figure.Figure at 0x7f0995255470>"
      ]
     },
     "metadata": {
      "needs_background": "light"
     },
     "output_type": "display_data"
    },
    {
     "data": {
      "image/png": "[encoded data removed]",
      "text/plain": [
       "<matplotlib.figure.Figure at 0x7f0994d17438>"
      ]
     },
     "metadata": {
      "needs_background": "light"
     },
     "output_type": "display_data"
    },
    {
     "data": {
      "image/png": "[encoded data removed]",
      "text/plain": [
       "<matplotlib.figure.Figure at 0x7f0991278320>"
      ]
     },
     "metadata": {
      "needs_background": "light"
     },
     "output_type": "display_data"
    },
    {
     "data": {
      "image/png": "[encoded data removed]",
      "text/plain": [
       "<matplotlib.figure.Figure at 0x7f0992b5d940>"
      ]
     },
     "metadata": {
      "needs_background": "light"
     },
     "output_type": "display_data"
    }
   ],
   "source": [
    "#Compare the distribution of values for at least five columns where there are\n",
    "# no or few missing values, between the two subsets.\n",
    "\n",
    "# x = df_above.isnull().sum() == 0 & df_above.isnull().sum() == df_below.isnull().sum()\n",
    "# print(x)\n",
    "\n",
    "\n",
    "x = df_above.columns[df_above.isnull().sum()==0]\n",
    "y = df_below.columns[df_below.isnull().sum()==0]\n",
    "\n",
    "\n",
    "def plot_distribution(colname):\n",
    "    \n",
    "    fig, (ax1, ax2) = plt.subplots(1, 2)\n",
    "    ax1.set_title('Above 15')\n",
    "    sns.countplot(ax=ax1, x = df_above[colname])\n",
    "    ax2.set_title('Below 15')\n",
    "    sns.countplot(ax = ax2, x = df_below[colname])\n",
    "    return plt.show()\n",
    "\n",
    "# for name in ['FINANZ_MINIMALIST','FINANZ_SPARER','FINANZ_VORSORGER', 'FINANZ_ANLEGER', 'FINANZ_UNAUFFAELLIGER', 'FINANZ_HAUSBAUER', 'FINANZTYP']:\n",
    "#     plot_distribution(name)\n",
    "    \n",
    "    \n",
    "for name in ['ANREDE_KZ', 'FINANZ_MINIMALIST',\n",
    "       'FINANZTYP', 'SEMIO_FAM', 'SEMIO_REL',\n",
    "      'ZABEOTYP']:\n",
    "\n",
    "    plot_distribution(name)\n",
    "    "
   ]
  },
  {
   "cell_type": "markdown",
   "metadata": {},
   "source": [
    "#### Discussion 1.1.3: Assess Missing Data in Each Row\n",
    "\n",
    "***Are the data with lots of missing values are qualitatively different from data with few or no missing values?)***\n",
    "\n",
    "The threshold selected for segregating the data into two segments is 15, i.e, rows with 15 or more missing values are seperated from rows with less than 15 missing values.\n",
    "\n",
    "The graphs above illustrate the the dataset with higher missing values has uneven distribution of responses for some features which could lead to bias in the results. "
   ]
  },
  {
   "cell_type": "markdown",
   "metadata": {},
   "source": [
    "### Step 1.2: Select and Re-Encode Features\n",
    "\n",
    "Checking for missing data isn't the only way in which you can prepare a dataset for analysis. Since the unsupervised learning techniques to be used will only work on data that is encoded numerically, you need to make a few encoding changes or additional assumptions to be able to make progress. In addition, while almost all of the values in the dataset are encoded using numbers, not all of them represent numeric values. Check the third column of the feature summary (`feat_info`) for a summary of types of measurement.\n",
    "- For numeric and interval data, these features can be kept without changes.\n",
    "- Most of the variables in the dataset are ordinal in nature. While ordinal values may technically be non-linear in spacing, make the simplifying assumption that the ordinal variables can be treated as being interval in nature (that is, kept without any changes).\n",
    "- Special handling may be necessary for the remaining two variable types: categorical, and 'mixed'.\n",
    "\n",
    "In the first two parts of this sub-step, you will perform an investigation of the categorical and mixed-type features and make a decision on each of them, whether you will keep, drop, or re-encode each. Then, in the last part, you will create a new data frame with only the selected and engineered columns.\n",
    "\n",
    "Data wrangling is often the trickiest part of the data analysis process, and there's a lot of it to be done here. But stick with it: once you're done with this step, you'll be ready to get to the machine learning parts of the project!"
   ]
  },
  {
   "cell_type": "code",
   "execution_count": 71,
   "metadata": {},
   "outputs": [
    {
     "data": {
      "text/plain": [
       "ordinal        49\n",
       "categorical    18\n",
       "numeric         6\n",
       "mixed           6\n",
       "Name: type, dtype: int64"
      ]
     },
     "execution_count": 71,
     "metadata": {},
     "output_type": "execute_result"
    }
   ],
   "source": [
    "# How many features are there of each data type?\n",
    "\n",
    "features = list(df_below.columns)\n",
    "\n",
    "feature_type = feat_info[feat_info['attribute'].isin(features)] \n",
    "\n",
    "feature_type['type'].value_counts()"
   ]
  },
  {
   "cell_type": "markdown",
   "metadata": {},
   "source": [
    "#### Step 1.2.1: Re-Encode Categorical Features\n",
    "\n",
    "For categorical data, you would ordinarily need to encode the levels as dummy variables. Depending on the number of categories, perform one of the following:\n",
    "- For binary (two-level) categoricals that take numeric values, you can keep them without needing to do anything.\n",
    "- There is one binary variable that takes on non-numeric values. For this one, you need to re-encode the values as numbers or create a dummy variable.\n",
    "- For multi-level categoricals (three or more values), you can choose to encode the values using multiple dummy variables (e.g. via [OneHotEncoder](http://scikit-learn.org/stable/modules/generated/sklearn.preprocessing.OneHotEncoder.html)), or (to keep things straightforward) just drop them from the analysis. As always, document your choices in the Discussion section."
   ]
  },
  {
   "cell_type": "code",
   "execution_count": 72,
   "metadata": {},
   "outputs": [],
   "source": [
    "# Assess categorical variables: which are binary, which are multi-level, and\n",
    "# which one needs to be re-encoded?\n",
    "\n",
    "\n",
    "\n",
    "## Binary non-numeric values\n",
    "\n",
    "def convert_to_numeric(x):\n",
    "        if x=='W': return 1\n",
    "        if x=='O': return 0\n",
    "\n",
    "df_below['OST_WEST_KZ'] = df_below['OST_WEST_KZ'].apply(convert_to_numeric)\n",
    "    \n",
    "    \n",
    "\n",
    "## Count all missing values\n",
    "categorical_variables = feature_type[feature_type[\"type\"]==\"categorical\"][\"attribute\"].tolist()\n",
    "\n",
    "## Drop a column\n",
    "\n",
    "df_below.drop('CAMEO_DEU_2015', axis = 1, inplace = True)\n",
    "categorical_variables.remove(\"CAMEO_DEU_2015\")\n",
    "\n",
    "# for name in categorical_variables:\n",
    "#     print(df_below[name].value_counts())\n",
    "#     print(name, df_below[name].isnull().sum())"
   ]
  },
  {
   "cell_type": "code",
   "execution_count": 73,
   "metadata": {},
   "outputs": [],
   "source": [
    "# Re-encode categorical variable(s) to be kept in the analysis.\n",
    "from sklearn.preprocessing import Imputer\n",
    "\n",
    "imp = Imputer(missing_values='NaN', strategy='most_frequent', axis=0)  \n",
    "for vars in categorical_variables:\n",
    "    df_below[vars] = imp.fit_transform(df_below[[vars]])#.ravel()\n",
    "    \n",
    "    \n",
    "df_below = pd.get_dummies(df_below, columns = categorical_variables)\n"
   ]
  },
  {
   "cell_type": "markdown",
   "metadata": {},
   "source": [
    "#### Discussion 1.2.1: Re-Encode Categorical Features\n",
    "\n",
    "***Report your findings and decisions regarding categorical features. Which ones did you keep, which did you drop, and what engineering steps did you perform?***\n",
    "\n",
    "There are a total of 18 categorical features, out of these features  the feature 'OST_WEST_KZ' had non-numeirc values . These values were converted to numeric values.\n",
    "\n",
    "The feature 'CAMEO_DEU_2015' is dropped for the dataframe for simplicity. The information contained in this feature is the detailed scale information of the feature 'CAMEO_DEUG_2015', thus we do not loose information by deleting this feature.\n",
    "\n",
    "Missing values are imputed with the most frequent values of a feature/column.\n",
    "\n",
    "All categorical features are converted to dummy variables."
   ]
  },
  {
   "cell_type": "markdown",
   "metadata": {},
   "source": [
    "#### Step 1.2.2: Engineer Mixed-Type Features\n",
    "\n",
    "There are a handful of features that are marked as \"mixed\" in the feature summary that require special treatment in order to be included in the analysis. There are two in particular that deserve attention; the handling of the rest are up to your own choices:\n",
    "- \"PRAEGENDE_JUGENDJAHRE\" combines information on three dimensions: generation by decade, movement (mainstream vs. avantgarde), and nation (east vs. west). While there aren't enough levels to disentangle east from west, you should create two new variables to capture the other two dimensions: an interval-type variable for decade, and a binary variable for movement.\n",
    "- \"CAMEO_INTL_2015\" combines information on two axes: wealth and life stage. Break up the two-digit codes by their 'tens'-place and 'ones'-place digits into two new ordinal variables (which, for the purposes of this project, is equivalent to just treating them as their raw numeric values).\n",
    "- If you decide to keep or engineer new features around the other mixed-type features, make sure you note your steps in the Discussion section.\n",
    "\n",
    "Be sure to check `Data_Dictionary.md` for the details needed to finish these tasks."
   ]
  },
  {
   "cell_type": "code",
   "execution_count": 74,
   "metadata": {},
   "outputs": [],
   "source": [
    "# Investigate \"PRAEGENDE_JUGENDJAHRE\" and engineer two new variables.\n",
    "\n",
    "# df_below['PRAEGENDE_JUGENDJAHRE']\n",
    "\n",
    "\n",
    "imp = Imputer(missing_values='NaN', strategy='most_frequent', axis=0)  \n",
    "df_below['PRAEGENDE_JUGENDJAHRE'] = imp.fit_transform(df_below[['PRAEGENDE_JUGENDJAHRE']])#.ravel()\n",
    "\n",
    "def convert_to_decade(y):\n",
    "    x = int(y)\n",
    "\n",
    "    if x == 1 : return '40s' \n",
    "    if x == 2 : return '40s'\n",
    "    if x == 3 : return '50s'\n",
    "    if x == 4 : return '50s'\n",
    "    if x == 5 : return '60s'\n",
    "    if x == 6 : return '60s'\n",
    "    if x == 7 : return '60s'\n",
    "    if x == 8 : return '70s'\n",
    "    if x == 9 : return '70s'\n",
    "    if x == 10 : return '80s'\n",
    "    if x == 11 : return '80s'\n",
    "    if x == 12 : return '80s'\n",
    "    if x == 13 : return '80s'\n",
    "    if x == 14 : return '90s'\n",
    "    if x == 15 : return '90s'\n",
    "\n",
    "df_below['PRAEGENDE_JUGENDJAHRE_decade'] = df_below['PRAEGENDE_JUGENDJAHRE'].apply(convert_to_decade)\n",
    "    \n",
    "\n",
    "    \n",
    "\n",
    "def convert_to_movement(y):\n",
    "    x = int(y)\n",
    "    \n",
    "    if x == 1 : return 1\n",
    "    if x == 2 : return 1\n",
    "    if x == 3 : return 1\n",
    "    if x == 4 : return 1\n",
    "    if x == 5 : return 1\n",
    "    if x == 6 : return 2\n",
    "    if x == 7 : return 3\n",
    "    if x == 8 : return 1\n",
    "    if x == 9 : return 1\n",
    "    if x == 10 : return 2\n",
    "    if x == 11 : return 2\n",
    "    if x == 12 : return 3\n",
    "    if x == 13 : return 3\n",
    "    if x == 14 : return 1\n",
    "    if x == 15 : return 1\n",
    "\n",
    "\n",
    "\n",
    "df_below['PRAEGENDE_JUGENDJAHRE_movement'] = df_below['PRAEGENDE_JUGENDJAHRE'].apply(convert_to_movement)    "
   ]
  },
  {
   "cell_type": "code",
   "execution_count": 75,
   "metadata": {},
   "outputs": [],
   "source": [
    "# Investigate \"CAMEO_INTL_2015\" and engineer two new variables.\n",
    "\n",
    "\n",
    "imp = Imputer(missing_values='NaN', strategy='most_frequent', axis=0)  \n",
    "df_below[\"CAMEO_INTL_2015\"] = imp.fit_transform(df_below[[\"CAMEO_INTL_2015\"]])#.ravel()\n",
    "\n",
    "def convert_to_lifestage(y):\n",
    "    x = int(y)\n",
    "    if x ==11: return  1\n",
    "    if x ==12: return  2\n",
    "    if x ==13: return  3\n",
    "    if x ==14: return  4\n",
    "    if x ==15: return  5\n",
    "    if x ==21: return  1\n",
    "    if x ==22: return  2\n",
    "    if x ==23: return  3\n",
    "    if x ==24: return  4\n",
    "    if x ==25: return  5\n",
    "    if x ==31: return  1\n",
    "    if x ==32: return  2\n",
    "    if x ==33: return  3\n",
    "    if x ==34: return  4\n",
    "    if x ==35: return  5\n",
    "    if x ==41: return  1\n",
    "    if x ==42: return  2\n",
    "    if x ==43: return  3\n",
    "    if x ==44: return  4\n",
    "    if x ==45: return  5\n",
    "    if x ==51: return  1\n",
    "    if x ==52: return  2\n",
    "    if x ==53: return  3\n",
    "    if x ==54: return  4\n",
    "    if x ==55: return  5\n",
    "    \n",
    "    \n",
    "    \n",
    "df_below[\"CAMEO_INTL_2015_lifestage\"] = df_below[\"CAMEO_INTL_2015\"].apply(convert_to_lifestage)    \n",
    "\n",
    "\n",
    "def convert_to_wealth(y):\n",
    "    x = int(y)\n",
    "    if x <= 11 & x >= 15 : return 1\n",
    "    if x <= 21 & x >= 25 : return 2\n",
    "    if x <= 31 & x >= 35 : return 3\n",
    "    if x <= 41 & x >= 45 : return 4\n",
    "    if x <= 51 & x >= 55 : return 5\n",
    "\n",
    "df_below[\"CAMEO_INTL_2015_wealth\"] = df_below[\"CAMEO_INTL_2015\"].apply(convert_to_wealth)    \n"
   ]
  },
  {
   "cell_type": "code",
   "execution_count": 76,
   "metadata": {},
   "outputs": [
    {
     "name": "stdout",
     "output_type": "stream",
     "text": [
      "['LP_LEBENSPHASE_FEIN', 'LP_LEBENSPHASE_GROB', 'PRAEGENDE_JUGENDJAHRE', 'WOHNLAGE', 'CAMEO_INTL_2015', 'PLZ8_BAUMAX']\n"
     ]
    }
   ],
   "source": [
    "###### See all mixed features\n",
    "\n",
    "mixed_variables = feature_type[feature_type[\"type\"]==\"mixed\"][\"attribute\"].tolist()\n",
    "\n",
    "print(mixed_variables)"
   ]
  },
  {
   "cell_type": "code",
   "execution_count": 77,
   "metadata": {},
   "outputs": [],
   "source": [
    "mixed_variables.remove('WOHNLAGE')"
   ]
  },
  {
   "cell_type": "code",
   "execution_count": 78,
   "metadata": {},
   "outputs": [],
   "source": [
    "encode =['WOHNLAGE', \"CAMEO_INTL_2015_lifestage\", \"CAMEO_INTL_2015_wealth\", 'PRAEGENDE_JUGENDJAHRE_decade', 'PRAEGENDE_JUGENDJAHRE_movement']\n",
    "\n",
    "df_below = pd.get_dummies(df_below, columns = encode)"
   ]
  },
  {
   "cell_type": "code",
   "execution_count": 79,
   "metadata": {},
   "outputs": [],
   "source": [
    "df_below.drop(mixed_variables, axis = 1, inplace = True)"
   ]
  },
  {
   "cell_type": "markdown",
   "metadata": {},
   "source": [
    "#### Discussion 1.2.2: Engineer Mixed-Type Features\n",
    "\n",
    "***Report your findings and decisions regarding mixed-value features. Which ones did you keep, which did you drop, and what engineering steps did you perform?***\n",
    "\n",
    "There were a total of 6 mixed features. Missing values are imputed with the most frequent values in a feature. Features 'PRAEGENDE_JUGENDJAHRE' was encoded into two features : 'PRAEGENDE_JUGENDJAHRE_decade' and 'PRAEGENDE_JUGENDJAHRE_decade'. Similarly, the feature 'CAMEO_INTL_2015' was encoded into 'CAMEO_INTL_2015_lifestage' and 'CAMEO_INTL_2015_wealth'.\n",
    "\n",
    "These four new features and the feature 'WOHNLAGE' are retained and converted to dummy features, while the rest of the mixed feaatures are dropped from the dataframe."
   ]
  },
  {
   "cell_type": "markdown",
   "metadata": {},
   "source": [
    "#### Step 1.2.3: Complete Feature Selection\n",
    "\n",
    "In order to finish this step up, you need to make sure that your data frame now only has the columns that you want to keep. To summarize, the dataframe should consist of the following:\n",
    "- All numeric, interval, and ordinal type columns from the original dataset.\n",
    "- Binary categorical features (all numerically-encoded).\n",
    "- Engineered features from other multi-level categorical features and mixed features.\n",
    "\n",
    "Make sure that for any new columns that you have engineered, that you've excluded the original columns from the final dataset. Otherwise, their values will interfere with the analysis later on the project. For example, you should not keep \"PRAEGENDE_JUGENDJAHRE\", since its values won't be useful for the algorithm: only the values derived from it in the engineered features you created should be retained. As a reminder, your data should only be from **the subset with few or no missing values**."
   ]
  },
  {
   "cell_type": "code",
   "execution_count": 80,
   "metadata": {},
   "outputs": [],
   "source": [
    "# If there are other re-engineering tasks you need to perform, make sure you\n",
    "# take care of them here. (Dealing with missing data will come in step 2.1.)\n",
    "\n"
   ]
  },
  {
   "cell_type": "code",
   "execution_count": 81,
   "metadata": {},
   "outputs": [],
   "source": [
    "# Do whatever you need to in order to ensure that the dataframe only contains\n",
    "# the columns that should be passed to the algorithm functions.\n",
    "\n"
   ]
  },
  {
   "cell_type": "markdown",
   "metadata": {},
   "source": [
    "### Step 1.3: Create a Cleaning Function\n",
    "\n",
    "Even though you've finished cleaning up the general population demographics data, it's important to look ahead to the future and realize that you'll need to perform the same cleaning steps on the customer demographics data. In this substep, complete the function below to execute the main feature selection, encoding, and re-engineering steps you performed above. Then, when it comes to looking at the customer data in Step 3, you can just run this function on that DataFrame to get the trimmed dataset in a single step."
   ]
  },
  {
   "cell_type": "code",
   "execution_count": 82,
   "metadata": {},
   "outputs": [],
   "source": [
    "######################################################### leave for now\n",
    "def clean_data(df):\n",
    "    \"\"\"\n",
    "     Perform feature trimming, re-encoding, and engineering for demographics\n",
    "     data\n",
    "    \n",
    "     INPUT: Demographics DataFrame\n",
    "     OUTPUT: Trimmed and cleaned demographics DataFrame\n",
    "     \"\"\"\n",
    "    \n",
    "    # convert missing value codes into NaNs, ...\n",
    "    \n",
    "    replace_missing(df)\n",
    "\n",
    "    # remove selected columns and rows, ...\n",
    "\n",
    "    df.drop(drop_columns, axis = 1, inplace = True)\n",
    "\n",
    "    df_above, df_below = drop_rows(df)      \n",
    "\n",
    "    # select, re-encode, and engineer column values.\n",
    "\n",
    "    # categorical variables\n",
    "    df_below['OST_WEST_KZ'] = df_below['OST_WEST_KZ'].apply(convert_to_numeric)\n",
    "\n",
    "    df_below.drop('CAMEO_DEU_2015', axis = 1, inplace = True)\n",
    "\n",
    "    imp = Imputer(missing_values='NaN', strategy='most_frequent', axis=0)  \n",
    "    for vars in categorical_variables:\n",
    "        df_below[vars] = imp.fit_transform(df_below[[vars]])\n",
    "\n",
    "    df_below = pd.get_dummies(df_below, columns = categorical_variables)\n",
    "\n",
    "    # mixed_variables\n",
    "\n",
    "    imp = Imputer(missing_values='NaN', strategy='most_frequent', axis=0)  \n",
    "    df_below['PRAEGENDE_JUGENDJAHRE'] = imp.fit_transform(df_below[['PRAEGENDE_JUGENDJAHRE']])\n",
    "\n",
    "\n",
    "\n",
    "\n",
    "\n",
    "    df_below['PRAEGENDE_JUGENDJAHRE_decade'] = df_below['PRAEGENDE_JUGENDJAHRE'].apply(convert_to_decade)\n",
    "\n",
    "    df_below['PRAEGENDE_JUGENDJAHRE_movement'] = df_below['PRAEGENDE_JUGENDJAHRE'].apply(convert_to_movement)    \n",
    "\n",
    "\n",
    "    imp = Imputer(missing_values='NaN', strategy='most_frequent', axis=0)  \n",
    "    df_below[\"CAMEO_INTL_2015\"] = imp.fit_transform(df_below[[\"CAMEO_INTL_2015\"]])#.ravel()\n",
    "\n",
    "\n",
    "    df_below[\"CAMEO_INTL_2015_lifestage\"] = df_below[\"CAMEO_INTL_2015\"].apply(convert_to_lifestage)    \n",
    "\n",
    "\n",
    "    df_below[\"CAMEO_INTL_2015_wealth\"] = df_below[\"CAMEO_INTL_2015\"].apply(convert_to_wealth)\n",
    "\n",
    "\n",
    "\n",
    "    df_below = pd.get_dummies(df_below, columns = encode)\n",
    "\n",
    "\n",
    "    df_below.drop(mixed_variables, axis = 1, inplace = True)\n",
    "\n",
    "\n",
    "\n",
    "    #Impute missing values\n",
    "    imp = Imputer(missing_values='NaN', strategy='most_frequent', axis=1)  \n",
    "    df_below_nomiss = pd.DataFrame(imp.fit_transform(df_below))\n",
    "    df_below_nomiss.columns = df_below.columns\n",
    "    df_below_nomiss.index = df_below.index\n",
    "\n",
    "\n",
    "    # Return the cleaned dataframe.\n",
    "\n",
    "    return df_below_nomiss"
   ]
  },
  {
   "cell_type": "markdown",
   "metadata": {},
   "source": [
    "## Step 2: Feature Transformation\n",
    "\n",
    "### Step 2.1: Apply Feature Scaling\n",
    "\n",
    "Before we apply dimensionality reduction techniques to the data, we need to perform feature scaling so that the principal component vectors are not influenced by the natural differences in scale for features. Starting from this part of the project, you'll want to keep an eye on the [API reference page for sklearn](http://scikit-learn.org/stable/modules/classes.html) to help you navigate to all of the classes and functions that you'll need. In this substep, you'll need to check the following:\n",
    "\n",
    "- sklearn requires that data not have missing values in order for its estimators to work properly. So, before applying the scaler to your data, make sure that you've cleaned the DataFrame of the remaining missing values. This can be as simple as just removing all data points with missing data, or applying an [Imputer](http://scikit-learn.org/stable/modules/generated/sklearn.preprocessing.Imputer.html) to replace all missing values. You might also try a more complicated procedure where you temporarily remove missing values in order to compute the scaling parameters before re-introducing those missing values and applying imputation. Think about how much missing data you have and what possible effects each approach might have on your analysis, and justify your decision in the discussion section below.\n",
    "- For the actual scaling function, a [StandardScaler](http://scikit-learn.org/stable/modules/generated/sklearn.preprocessing.StandardScaler.html) instance is suggested, scaling each feature to mean 0 and standard deviation 1.\n",
    "- For these classes, you can make use of the `.fit_transform()` method to both fit a procedure to the data as well as apply the transformation to the data at the same time. Don't forget to keep the fit sklearn objects handy, since you'll be applying them to the customer demographics data towards the end of the project."
   ]
  },
  {
   "cell_type": "code",
   "execution_count": 83,
   "metadata": {},
   "outputs": [
    {
     "data": {
      "text/plain": [
       "W_KEIT_KIND_HH    7.340415\n",
       "KKK               7.116174\n",
       "REGIOTYP          7.116174\n",
       "HEALTH_TYP        4.511748\n",
       "KBA05_ANTG1       3.828358\n",
       "KBA05_ANTG2       3.828358\n",
       "KBA05_ANTG3       3.828358\n",
       "KBA05_ANTG4       3.828358\n",
       "KBA05_GBZ         3.828358\n",
       "MOBI_REGIO        3.828358\n",
       "dtype: float64"
      ]
     },
     "execution_count": 83,
     "metadata": {},
     "output_type": "execute_result"
    }
   ],
   "source": [
    "# If you've not yet cleaned the dataset of all NaN values, then investigate and\n",
    "# do that now.\n",
    "\n",
    "\n",
    "# Percentage of missing values\n",
    "(df_below.isnull().sum()/df_below.shape[0]*100).sort_values(ascending = False).head(10)\n"
   ]
  },
  {
   "cell_type": "code",
   "execution_count": 84,
   "metadata": {},
   "outputs": [],
   "source": [
    "# Imputing missing values\n",
    "\n",
    "imp = Imputer(missing_values='NaN', strategy='most_frequent', axis=1)  \n",
    "df_below_nomiss = pd.DataFrame(imp.fit_transform(df_below))\n",
    "df_below_nomiss.columns = df_below.columns\n",
    "df_below_nomiss.index = df_below.index"
   ]
  },
  {
   "cell_type": "code",
   "execution_count": 85,
   "metadata": {},
   "outputs": [
    {
     "data": {
      "text/html": [
       "<div>\n",
       "<style scoped>\n",
       "    .dataframe tbody tr th:only-of-type {\n",
       "        vertical-align: middle;\n",
       "    }\n",
       "\n",
       "    .dataframe tbody tr th {\n",
       "        vertical-align: top;\n",
       "    }\n",
       "\n",
       "    .dataframe thead th {\n",
       "        text-align: right;\n",
       "    }\n",
       "</style>\n",
       "<table border=\"1\" class=\"dataframe\">\n",
       "  <thead>\n",
       "    <tr style=\"text-align: right;\">\n",
       "      <th></th>\n",
       "      <th>ALTERSKATEGORIE_GROB</th>\n",
       "      <th>FINANZ_MINIMALIST</th>\n",
       "      <th>FINANZ_SPARER</th>\n",
       "      <th>FINANZ_VORSORGER</th>\n",
       "      <th>FINANZ_ANLEGER</th>\n",
       "      <th>FINANZ_UNAUFFAELLIGER</th>\n",
       "      <th>FINANZ_HAUSBAUER</th>\n",
       "      <th>HEALTH_TYP</th>\n",
       "      <th>RETOURTYP_BK_S</th>\n",
       "      <th>SEMIO_SOZ</th>\n",
       "      <th>...</th>\n",
       "      <th>CAMEO_INTL_2015_lifestage_5</th>\n",
       "      <th>PRAEGENDE_JUGENDJAHRE_decade_40s</th>\n",
       "      <th>PRAEGENDE_JUGENDJAHRE_decade_50s</th>\n",
       "      <th>PRAEGENDE_JUGENDJAHRE_decade_60s</th>\n",
       "      <th>PRAEGENDE_JUGENDJAHRE_decade_70s</th>\n",
       "      <th>PRAEGENDE_JUGENDJAHRE_decade_80s</th>\n",
       "      <th>PRAEGENDE_JUGENDJAHRE_decade_90s</th>\n",
       "      <th>PRAEGENDE_JUGENDJAHRE_movement_1</th>\n",
       "      <th>PRAEGENDE_JUGENDJAHRE_movement_2</th>\n",
       "      <th>PRAEGENDE_JUGENDJAHRE_movement_3</th>\n",
       "    </tr>\n",
       "  </thead>\n",
       "  <tbody>\n",
       "    <tr>\n",
       "      <th>count</th>\n",
       "      <td>787544.000000</td>\n",
       "      <td>787544.000000</td>\n",
       "      <td>787544.000000</td>\n",
       "      <td>787544.000000</td>\n",
       "      <td>787544.000000</td>\n",
       "      <td>787544.000000</td>\n",
       "      <td>787544.000000</td>\n",
       "      <td>787544.000000</td>\n",
       "      <td>787544.000000</td>\n",
       "      <td>787544.000000</td>\n",
       "      <td>...</td>\n",
       "      <td>787544.000000</td>\n",
       "      <td>787544.000000</td>\n",
       "      <td>787544.000000</td>\n",
       "      <td>787544.000000</td>\n",
       "      <td>787544.000000</td>\n",
       "      <td>787544.000000</td>\n",
       "      <td>787544.000000</td>\n",
       "      <td>787544.000000</td>\n",
       "      <td>787544.000000</td>\n",
       "      <td>787544.000000</td>\n",
       "    </tr>\n",
       "    <tr>\n",
       "      <th>mean</th>\n",
       "      <td>2.787253</td>\n",
       "      <td>3.054347</td>\n",
       "      <td>2.712546</td>\n",
       "      <td>3.437178</td>\n",
       "      <td>2.838525</td>\n",
       "      <td>2.642588</td>\n",
       "      <td>3.133121</td>\n",
       "      <td>2.102821</td>\n",
       "      <td>3.424620</td>\n",
       "      <td>4.150145</td>\n",
       "      <td>...</td>\n",
       "      <td>0.147408</td>\n",
       "      <td>0.035471</td>\n",
       "      <td>0.093774</td>\n",
       "      <td>0.144427</td>\n",
       "      <td>0.220188</td>\n",
       "      <td>0.189996</td>\n",
       "      <td>0.316144</td>\n",
       "      <td>0.772408</td>\n",
       "      <td>0.184617</td>\n",
       "      <td>0.042975</td>\n",
       "    </tr>\n",
       "    <tr>\n",
       "      <th>std</th>\n",
       "      <td>1.030221</td>\n",
       "      <td>1.377935</td>\n",
       "      <td>1.486048</td>\n",
       "      <td>1.376676</td>\n",
       "      <td>1.473212</td>\n",
       "      <td>1.395589</td>\n",
       "      <td>1.402157</td>\n",
       "      <td>0.868003</td>\n",
       "      <td>1.474217</td>\n",
       "      <td>1.941701</td>\n",
       "      <td>...</td>\n",
       "      <td>0.354512</td>\n",
       "      <td>0.184967</td>\n",
       "      <td>0.291514</td>\n",
       "      <td>0.351523</td>\n",
       "      <td>0.414374</td>\n",
       "      <td>0.392298</td>\n",
       "      <td>0.464970</td>\n",
       "      <td>0.419278</td>\n",
       "      <td>0.387987</td>\n",
       "      <td>0.202802</td>\n",
       "    </tr>\n",
       "    <tr>\n",
       "      <th>min</th>\n",
       "      <td>0.000000</td>\n",
       "      <td>1.000000</td>\n",
       "      <td>1.000000</td>\n",
       "      <td>1.000000</td>\n",
       "      <td>1.000000</td>\n",
       "      <td>1.000000</td>\n",
       "      <td>1.000000</td>\n",
       "      <td>0.000000</td>\n",
       "      <td>0.000000</td>\n",
       "      <td>1.000000</td>\n",
       "      <td>...</td>\n",
       "      <td>0.000000</td>\n",
       "      <td>0.000000</td>\n",
       "      <td>0.000000</td>\n",
       "      <td>0.000000</td>\n",
       "      <td>0.000000</td>\n",
       "      <td>0.000000</td>\n",
       "      <td>0.000000</td>\n",
       "      <td>0.000000</td>\n",
       "      <td>0.000000</td>\n",
       "      <td>0.000000</td>\n",
       "    </tr>\n",
       "    <tr>\n",
       "      <th>25%</th>\n",
       "      <td>2.000000</td>\n",
       "      <td>2.000000</td>\n",
       "      <td>1.000000</td>\n",
       "      <td>2.000000</td>\n",
       "      <td>1.000000</td>\n",
       "      <td>1.000000</td>\n",
       "      <td>2.000000</td>\n",
       "      <td>2.000000</td>\n",
       "      <td>2.000000</td>\n",
       "      <td>2.000000</td>\n",
       "      <td>...</td>\n",
       "      <td>0.000000</td>\n",
       "      <td>0.000000</td>\n",
       "      <td>0.000000</td>\n",
       "      <td>0.000000</td>\n",
       "      <td>0.000000</td>\n",
       "      <td>0.000000</td>\n",
       "      <td>0.000000</td>\n",
       "      <td>1.000000</td>\n",
       "      <td>0.000000</td>\n",
       "      <td>0.000000</td>\n",
       "    </tr>\n",
       "    <tr>\n",
       "      <th>50%</th>\n",
       "      <td>3.000000</td>\n",
       "      <td>3.000000</td>\n",
       "      <td>3.000000</td>\n",
       "      <td>4.000000</td>\n",
       "      <td>3.000000</td>\n",
       "      <td>2.000000</td>\n",
       "      <td>3.000000</td>\n",
       "      <td>2.000000</td>\n",
       "      <td>4.000000</td>\n",
       "      <td>4.000000</td>\n",
       "      <td>...</td>\n",
       "      <td>0.000000</td>\n",
       "      <td>0.000000</td>\n",
       "      <td>0.000000</td>\n",
       "      <td>0.000000</td>\n",
       "      <td>0.000000</td>\n",
       "      <td>0.000000</td>\n",
       "      <td>0.000000</td>\n",
       "      <td>1.000000</td>\n",
       "      <td>0.000000</td>\n",
       "      <td>0.000000</td>\n",
       "    </tr>\n",
       "    <tr>\n",
       "      <th>75%</th>\n",
       "      <td>4.000000</td>\n",
       "      <td>4.000000</td>\n",
       "      <td>4.000000</td>\n",
       "      <td>5.000000</td>\n",
       "      <td>4.000000</td>\n",
       "      <td>4.000000</td>\n",
       "      <td>4.000000</td>\n",
       "      <td>3.000000</td>\n",
       "      <td>5.000000</td>\n",
       "      <td>6.000000</td>\n",
       "      <td>...</td>\n",
       "      <td>0.000000</td>\n",
       "      <td>0.000000</td>\n",
       "      <td>0.000000</td>\n",
       "      <td>0.000000</td>\n",
       "      <td>0.000000</td>\n",
       "      <td>0.000000</td>\n",
       "      <td>1.000000</td>\n",
       "      <td>1.000000</td>\n",
       "      <td>0.000000</td>\n",
       "      <td>0.000000</td>\n",
       "    </tr>\n",
       "    <tr>\n",
       "      <th>max</th>\n",
       "      <td>4.000000</td>\n",
       "      <td>5.000000</td>\n",
       "      <td>5.000000</td>\n",
       "      <td>5.000000</td>\n",
       "      <td>5.000000</td>\n",
       "      <td>5.000000</td>\n",
       "      <td>5.000000</td>\n",
       "      <td>3.000000</td>\n",
       "      <td>5.000000</td>\n",
       "      <td>7.000000</td>\n",
       "      <td>...</td>\n",
       "      <td>1.000000</td>\n",
       "      <td>1.000000</td>\n",
       "      <td>1.000000</td>\n",
       "      <td>1.000000</td>\n",
       "      <td>1.000000</td>\n",
       "      <td>1.000000</td>\n",
       "      <td>1.000000</td>\n",
       "      <td>1.000000</td>\n",
       "      <td>1.000000</td>\n",
       "      <td>1.000000</td>\n",
       "    </tr>\n",
       "  </tbody>\n",
       "</table>\n",
       "<p>8 rows × 171 columns</p>\n",
       "</div>"
      ],
      "text/plain": [
       "       ALTERSKATEGORIE_GROB  FINANZ_MINIMALIST  FINANZ_SPARER  \\\n",
       "count         787544.000000      787544.000000  787544.000000   \n",
       "mean               2.787253           3.054347       2.712546   \n",
       "std                1.030221           1.377935       1.486048   \n",
       "min                0.000000           1.000000       1.000000   \n",
       "25%                2.000000           2.000000       1.000000   \n",
       "50%                3.000000           3.000000       3.000000   \n",
       "75%                4.000000           4.000000       4.000000   \n",
       "max                4.000000           5.000000       5.000000   \n",
       "\n",
       "       FINANZ_VORSORGER  FINANZ_ANLEGER  FINANZ_UNAUFFAELLIGER  \\\n",
       "count     787544.000000   787544.000000          787544.000000   \n",
       "mean           3.437178        2.838525               2.642588   \n",
       "std            1.376676        1.473212               1.395589   \n",
       "min            1.000000        1.000000               1.000000   \n",
       "25%            2.000000        1.000000               1.000000   \n",
       "50%            4.000000        3.000000               2.000000   \n",
       "75%            5.000000        4.000000               4.000000   \n",
       "max            5.000000        5.000000               5.000000   \n",
       "\n",
       "       FINANZ_HAUSBAUER     HEALTH_TYP  RETOURTYP_BK_S      SEMIO_SOZ  \\\n",
       "count     787544.000000  787544.000000   787544.000000  787544.000000   \n",
       "mean           3.133121       2.102821        3.424620       4.150145   \n",
       "std            1.402157       0.868003        1.474217       1.941701   \n",
       "min            1.000000       0.000000        0.000000       1.000000   \n",
       "25%            2.000000       2.000000        2.000000       2.000000   \n",
       "50%            3.000000       2.000000        4.000000       4.000000   \n",
       "75%            4.000000       3.000000        5.000000       6.000000   \n",
       "max            5.000000       3.000000        5.000000       7.000000   \n",
       "\n",
       "                     ...                 CAMEO_INTL_2015_lifestage_5  \\\n",
       "count                ...                               787544.000000   \n",
       "mean                 ...                                    0.147408   \n",
       "std                  ...                                    0.354512   \n",
       "min                  ...                                    0.000000   \n",
       "25%                  ...                                    0.000000   \n",
       "50%                  ...                                    0.000000   \n",
       "75%                  ...                                    0.000000   \n",
       "max                  ...                                    1.000000   \n",
       "\n",
       "       PRAEGENDE_JUGENDJAHRE_decade_40s  PRAEGENDE_JUGENDJAHRE_decade_50s  \\\n",
       "count                     787544.000000                     787544.000000   \n",
       "mean                           0.035471                          0.093774   \n",
       "std                            0.184967                          0.291514   \n",
       "min                            0.000000                          0.000000   \n",
       "25%                            0.000000                          0.000000   \n",
       "50%                            0.000000                          0.000000   \n",
       "75%                            0.000000                          0.000000   \n",
       "max                            1.000000                          1.000000   \n",
       "\n",
       "       PRAEGENDE_JUGENDJAHRE_decade_60s  PRAEGENDE_JUGENDJAHRE_decade_70s  \\\n",
       "count                     787544.000000                     787544.000000   \n",
       "mean                           0.144427                          0.220188   \n",
       "std                            0.351523                          0.414374   \n",
       "min                            0.000000                          0.000000   \n",
       "25%                            0.000000                          0.000000   \n",
       "50%                            0.000000                          0.000000   \n",
       "75%                            0.000000                          0.000000   \n",
       "max                            1.000000                          1.000000   \n",
       "\n",
       "       PRAEGENDE_JUGENDJAHRE_decade_80s  PRAEGENDE_JUGENDJAHRE_decade_90s  \\\n",
       "count                     787544.000000                     787544.000000   \n",
       "mean                           0.189996                          0.316144   \n",
       "std                            0.392298                          0.464970   \n",
       "min                            0.000000                          0.000000   \n",
       "25%                            0.000000                          0.000000   \n",
       "50%                            0.000000                          0.000000   \n",
       "75%                            0.000000                          1.000000   \n",
       "max                            1.000000                          1.000000   \n",
       "\n",
       "       PRAEGENDE_JUGENDJAHRE_movement_1  PRAEGENDE_JUGENDJAHRE_movement_2  \\\n",
       "count                     787544.000000                     787544.000000   \n",
       "mean                           0.772408                          0.184617   \n",
       "std                            0.419278                          0.387987   \n",
       "min                            0.000000                          0.000000   \n",
       "25%                            1.000000                          0.000000   \n",
       "50%                            1.000000                          0.000000   \n",
       "75%                            1.000000                          0.000000   \n",
       "max                            1.000000                          1.000000   \n",
       "\n",
       "       PRAEGENDE_JUGENDJAHRE_movement_3  \n",
       "count                     787544.000000  \n",
       "mean                           0.042975  \n",
       "std                            0.202802  \n",
       "min                            0.000000  \n",
       "25%                            0.000000  \n",
       "50%                            0.000000  \n",
       "75%                            0.000000  \n",
       "max                            1.000000  \n",
       "\n",
       "[8 rows x 171 columns]"
      ]
     },
     "execution_count": 85,
     "metadata": {},
     "output_type": "execute_result"
    }
   ],
   "source": [
    "# Apply feature scaling to the general population demographics data.\n",
    "\n",
    "df_below_nomiss.describe()"
   ]
  },
  {
   "cell_type": "code",
   "execution_count": 86,
   "metadata": {},
   "outputs": [],
   "source": [
    "scaler = StandardScaler()\n",
    "standardized_features = pd.DataFrame(scaler.fit_transform(df_below_nomiss), columns = df_below_nomiss.columns)"
   ]
  },
  {
   "cell_type": "code",
   "execution_count": 87,
   "metadata": {},
   "outputs": [
    {
     "data": {
      "text/plain": [
       "(787544, 171)"
      ]
     },
     "execution_count": 87,
     "metadata": {},
     "output_type": "execute_result"
    }
   ],
   "source": [
    "standardized_features.shape"
   ]
  },
  {
   "cell_type": "code",
   "execution_count": 88,
   "metadata": {},
   "outputs": [
    {
     "data": {
      "text/plain": [
       "['ALTERSKATEGORIE_GROB',\n",
       " 'FINANZ_MINIMALIST',\n",
       " 'FINANZ_SPARER',\n",
       " 'FINANZ_VORSORGER',\n",
       " 'FINANZ_ANLEGER',\n",
       " 'FINANZ_UNAUFFAELLIGER',\n",
       " 'FINANZ_HAUSBAUER',\n",
       " 'HEALTH_TYP',\n",
       " 'RETOURTYP_BK_S',\n",
       " 'SEMIO_SOZ',\n",
       " 'SEMIO_FAM',\n",
       " 'SEMIO_REL',\n",
       " 'SEMIO_MAT',\n",
       " 'SEMIO_VERT',\n",
       " 'SEMIO_LUST',\n",
       " 'SEMIO_ERL',\n",
       " 'SEMIO_KULT',\n",
       " 'SEMIO_RAT',\n",
       " 'SEMIO_KRIT',\n",
       " 'SEMIO_DOM',\n",
       " 'SEMIO_KAEM',\n",
       " 'SEMIO_PFLICHT',\n",
       " 'SEMIO_TRADV',\n",
       " 'ANZ_PERSONEN',\n",
       " 'ANZ_TITEL',\n",
       " 'HH_EINKOMMEN_SCORE',\n",
       " 'W_KEIT_KIND_HH',\n",
       " 'WOHNDAUER_2008',\n",
       " 'ANZ_HAUSHALTE_AKTIV',\n",
       " 'ANZ_HH_TITEL',\n",
       " 'KONSUMNAEHE',\n",
       " 'MIN_GEBAEUDEJAHR',\n",
       " 'KBA05_ANTG1',\n",
       " 'KBA05_ANTG2',\n",
       " 'KBA05_ANTG3',\n",
       " 'KBA05_ANTG4',\n",
       " 'KBA05_GBZ',\n",
       " 'BALLRAUM',\n",
       " 'EWDICHTE',\n",
       " 'INNENSTADT',\n",
       " 'GEBAEUDETYP_RASTER',\n",
       " 'KKK',\n",
       " 'MOBI_REGIO',\n",
       " 'ONLINE_AFFINITAET',\n",
       " 'REGIOTYP',\n",
       " 'KBA13_ANZAHL_PKW',\n",
       " 'PLZ8_ANTG1',\n",
       " 'PLZ8_ANTG2',\n",
       " 'PLZ8_ANTG3',\n",
       " 'PLZ8_ANTG4',\n",
       " 'PLZ8_HHZ',\n",
       " 'PLZ8_GBZ',\n",
       " 'ARBEIT',\n",
       " 'ORTSGR_KLS9',\n",
       " 'RELAT_AB',\n",
       " 'ANREDE_KZ_1.0',\n",
       " 'ANREDE_KZ_2.0',\n",
       " 'CJT_GESAMTTYP_1.0',\n",
       " 'CJT_GESAMTTYP_2.0',\n",
       " 'CJT_GESAMTTYP_3.0',\n",
       " 'CJT_GESAMTTYP_4.0',\n",
       " 'CJT_GESAMTTYP_5.0',\n",
       " 'CJT_GESAMTTYP_6.0',\n",
       " 'FINANZTYP_1.0',\n",
       " 'FINANZTYP_2.0',\n",
       " 'FINANZTYP_3.0',\n",
       " 'FINANZTYP_4.0',\n",
       " 'FINANZTYP_5.0',\n",
       " 'FINANZTYP_6.0',\n",
       " 'GFK_URLAUBERTYP_1.0',\n",
       " 'GFK_URLAUBERTYP_2.0',\n",
       " 'GFK_URLAUBERTYP_3.0',\n",
       " 'GFK_URLAUBERTYP_4.0',\n",
       " 'GFK_URLAUBERTYP_5.0',\n",
       " 'GFK_URLAUBERTYP_6.0',\n",
       " 'GFK_URLAUBERTYP_7.0',\n",
       " 'GFK_URLAUBERTYP_8.0',\n",
       " 'GFK_URLAUBERTYP_9.0',\n",
       " 'GFK_URLAUBERTYP_10.0',\n",
       " 'GFK_URLAUBERTYP_11.0',\n",
       " 'GFK_URLAUBERTYP_12.0',\n",
       " 'GREEN_AVANTGARDE_0.0',\n",
       " 'GREEN_AVANTGARDE_1.0',\n",
       " 'LP_FAMILIE_FEIN_1.0',\n",
       " 'LP_FAMILIE_FEIN_2.0',\n",
       " 'LP_FAMILIE_FEIN_3.0',\n",
       " 'LP_FAMILIE_FEIN_4.0',\n",
       " 'LP_FAMILIE_FEIN_5.0',\n",
       " 'LP_FAMILIE_FEIN_6.0',\n",
       " 'LP_FAMILIE_FEIN_7.0',\n",
       " 'LP_FAMILIE_FEIN_8.0',\n",
       " 'LP_FAMILIE_FEIN_9.0',\n",
       " 'LP_FAMILIE_FEIN_10.0',\n",
       " 'LP_FAMILIE_FEIN_11.0',\n",
       " 'LP_FAMILIE_GROB_1.0',\n",
       " 'LP_FAMILIE_GROB_2.0',\n",
       " 'LP_FAMILIE_GROB_3.0',\n",
       " 'LP_FAMILIE_GROB_4.0',\n",
       " 'LP_FAMILIE_GROB_5.0',\n",
       " 'LP_STATUS_FEIN_1.0',\n",
       " 'LP_STATUS_FEIN_2.0',\n",
       " 'LP_STATUS_FEIN_3.0',\n",
       " 'LP_STATUS_FEIN_4.0',\n",
       " 'LP_STATUS_FEIN_5.0',\n",
       " 'LP_STATUS_FEIN_6.0',\n",
       " 'LP_STATUS_FEIN_7.0',\n",
       " 'LP_STATUS_FEIN_8.0',\n",
       " 'LP_STATUS_FEIN_9.0',\n",
       " 'LP_STATUS_FEIN_10.0',\n",
       " 'LP_STATUS_GROB_1.0',\n",
       " 'LP_STATUS_GROB_2.0',\n",
       " 'LP_STATUS_GROB_3.0',\n",
       " 'LP_STATUS_GROB_4.0',\n",
       " 'LP_STATUS_GROB_5.0',\n",
       " 'NATIONALITAET_KZ_1.0',\n",
       " 'NATIONALITAET_KZ_2.0',\n",
       " 'NATIONALITAET_KZ_3.0',\n",
       " 'SHOPPER_TYP_0.0',\n",
       " 'SHOPPER_TYP_1.0',\n",
       " 'SHOPPER_TYP_2.0',\n",
       " 'SHOPPER_TYP_3.0',\n",
       " 'SOHO_KZ_0.0',\n",
       " 'SOHO_KZ_1.0',\n",
       " 'VERS_TYP_1.0',\n",
       " 'VERS_TYP_2.0',\n",
       " 'ZABEOTYP_1.0',\n",
       " 'ZABEOTYP_2.0',\n",
       " 'ZABEOTYP_3.0',\n",
       " 'ZABEOTYP_4.0',\n",
       " 'ZABEOTYP_5.0',\n",
       " 'ZABEOTYP_6.0',\n",
       " 'GEBAEUDETYP_1.0',\n",
       " 'GEBAEUDETYP_2.0',\n",
       " 'GEBAEUDETYP_3.0',\n",
       " 'GEBAEUDETYP_4.0',\n",
       " 'GEBAEUDETYP_5.0',\n",
       " 'GEBAEUDETYP_6.0',\n",
       " 'GEBAEUDETYP_8.0',\n",
       " 'OST_WEST_KZ_0.0',\n",
       " 'OST_WEST_KZ_1.0',\n",
       " 'CAMEO_DEUG_2015_1.0',\n",
       " 'CAMEO_DEUG_2015_2.0',\n",
       " 'CAMEO_DEUG_2015_3.0',\n",
       " 'CAMEO_DEUG_2015_4.0',\n",
       " 'CAMEO_DEUG_2015_5.0',\n",
       " 'CAMEO_DEUG_2015_6.0',\n",
       " 'CAMEO_DEUG_2015_7.0',\n",
       " 'CAMEO_DEUG_2015_8.0',\n",
       " 'CAMEO_DEUG_2015_9.0',\n",
       " 'WOHNLAGE_0.0',\n",
       " 'WOHNLAGE_1.0',\n",
       " 'WOHNLAGE_2.0',\n",
       " 'WOHNLAGE_3.0',\n",
       " 'WOHNLAGE_4.0',\n",
       " 'WOHNLAGE_5.0',\n",
       " 'WOHNLAGE_7.0',\n",
       " 'WOHNLAGE_8.0',\n",
       " 'CAMEO_INTL_2015_lifestage_1',\n",
       " 'CAMEO_INTL_2015_lifestage_2',\n",
       " 'CAMEO_INTL_2015_lifestage_3',\n",
       " 'CAMEO_INTL_2015_lifestage_4',\n",
       " 'CAMEO_INTL_2015_lifestage_5',\n",
       " 'PRAEGENDE_JUGENDJAHRE_decade_40s',\n",
       " 'PRAEGENDE_JUGENDJAHRE_decade_50s',\n",
       " 'PRAEGENDE_JUGENDJAHRE_decade_60s',\n",
       " 'PRAEGENDE_JUGENDJAHRE_decade_70s',\n",
       " 'PRAEGENDE_JUGENDJAHRE_decade_80s',\n",
       " 'PRAEGENDE_JUGENDJAHRE_decade_90s',\n",
       " 'PRAEGENDE_JUGENDJAHRE_movement_1',\n",
       " 'PRAEGENDE_JUGENDJAHRE_movement_2',\n",
       " 'PRAEGENDE_JUGENDJAHRE_movement_3']"
      ]
     },
     "execution_count": 88,
     "metadata": {},
     "output_type": "execute_result"
    }
   ],
   "source": [
    "standardized_features.columns.tolist()"
   ]
  },
  {
   "cell_type": "markdown",
   "metadata": {},
   "source": [
    "### Discussion 2.1: Apply Feature Scaling\n",
    "\n",
    "***Decisions regarding feature scaling.***\n",
    "\n",
    "\n",
    "The features have a max of 7 percet of the values missings. Since, the dataframe is a mix of ordinal and categorical variables, the missing values are imputed with the most frequent values of a feature.\n",
    "\n",
    "It is essential to scale the features as we the machine learning algorithms to be used calculate distances between data. The standard scalar method is used for feature scaling, i.e, each feature is transformed to have 0 mean and a standard deviation of 1.  "
   ]
  },
  {
   "cell_type": "markdown",
   "metadata": {},
   "source": [
    "### Step 2.2: Perform Dimensionality Reduction\n",
    "\n",
    "On your scaled data, you are now ready to apply dimensionality reduction techniques.\n",
    "\n",
    "- Use sklearn's [PCA](http://scikit-learn.org/stable/modules/generated/sklearn.decomposition.PCA.html) class to apply principal component analysis on the data, thus finding the vectors of maximal variance in the data. To start, you should not set any parameters (so all components are computed) or set a number of components that is at least half the number of features (so there's enough features to see the general trend in variability).\n",
    "- Check out the ratio of variance explained by each principal component as well as the cumulative variance explained. Try plotting the cumulative or sequential values using matplotlib's [`plot()`](https://matplotlib.org/api/_as_gen/matplotlib.pyplot.plot.html) function. Based on what you find, select a value for the number of transformed features you'll retain for the clustering part of the project.\n",
    "- Once you've made a choice for the number of components to keep, make sure you re-fit a PCA instance to perform the decided-on transformation."
   ]
  },
  {
   "cell_type": "code",
   "execution_count": 89,
   "metadata": {},
   "outputs": [],
   "source": [
    "# Apply PCA to the data.\n",
    "\n",
    "pca = PCA()\n",
    "X_pca = pca.fit_transform(standardized_features)"
   ]
  },
  {
   "cell_type": "code",
   "execution_count": 90,
   "metadata": {},
   "outputs": [
    {
     "data": {
      "text/plain": [
       "<function matplotlib.pyplot.show(*args, **kw)>"
      ]
     },
     "execution_count": 90,
     "metadata": {},
     "output_type": "execute_result"
    },
    {
     "data": {
      "image/png": "[encoded data removed]",
      "text/plain": [
       "<matplotlib.figure.Figure at 0x7f0994e435f8>"
      ]
     },
     "metadata": {
      "needs_background": "light"
     },
     "output_type": "display_data"
    }
   ],
   "source": [
    "# Investigate the variance accounted for by each principal component.\n",
    "\n",
    "components = np.arange(len( pca.explained_variance_ratio_))\n",
    "vals = pca.explained_variance_ratio_\n",
    "commulative = vals.cumsum()\n",
    "\n",
    "\n",
    "plt.bar(components,vals, align='center', alpha=0.5)\n",
    "plt.plot(commulative)\n",
    "plt.axhline(y=0.90, color='r', linestyle='-')\n",
    "plt.show"
   ]
  },
  {
   "cell_type": "code",
   "execution_count": 91,
   "metadata": {},
   "outputs": [
    {
     "data": {
      "text/plain": [
       "(array([86, 87, 88]),)"
      ]
     },
     "execution_count": 91,
     "metadata": {},
     "output_type": "execute_result"
    }
   ],
   "source": [
    "result = np.where(np.round(commulative,2) == 0.90)\n",
    "result"
   ]
  },
  {
   "cell_type": "code",
   "execution_count": 92,
   "metadata": {},
   "outputs": [],
   "source": [
    "# Re-apply PCA to the data while selecting for number of components to retain.\n",
    "\n",
    "pca_final = PCA(n_components = 86)\n",
    "X_pca_final = pca_final.fit_transform(standardized_features)"
   ]
  },
  {
   "cell_type": "markdown",
   "metadata": {},
   "source": [
    "### Discussion 2.2: Perform Dimensionality Reduction\n",
    "\n",
    "***Report your findings and decisions regarding dimensionality reduction. How many principal components / transformed features are you retaining for the next step of the analysis?***\n",
    "\n",
    "At first the PCA is conducted without any specified number of components. The plot above shows the variance of each component along with the curve showing the cummulative variance. The point where the red line intersects the commulative variance curve shows the point where 90 percent of the variance is explained by the components. At this point the number of components is 86. Thus, PCA is calculated for 101 components and is fit to the standardized features."
   ]
  },
  {
   "cell_type": "markdown",
   "metadata": {},
   "source": [
    "### Step 2.3: Interpret Principal Components\n",
    "\n",
    "Now that we have our transformed principal components, it's a nice idea to check out the weight of each variable on the first few components to see if they can be interpreted in some fashion.\n",
    "\n",
    "As a reminder, each principal component is a unit vector that points in the direction of highest variance (after accounting for the variance captured by earlier principal components). The further a weight is from zero, the more the principal component is in the direction of the corresponding feature. If two features have large weights of the same sign (both positive or both negative), then increases in one tend expect to be associated with increases in the other. To contrast, features with different signs can be expected to show a negative correlation: increases in one variable should result in a decrease in the other.\n",
    "\n",
    "- To investigate the features, you should map each weight to their corresponding feature name, then sort the features according to weight. The most interesting features for each principal component, then, will be those at the beginning and end of the sorted list. Use the data dictionary document to help you understand these most prominent features, their relationships, and what a positive or negative value on the principal component might indicate.\n",
    "- You should investigate and interpret feature associations from the first three principal components in this substep. To help facilitate this, you should write a function that you can call at any time to print the sorted list of feature weights, for the *i*-th principal component. This might come in handy in the next step of the project, when you interpret the tendencies of the discovered clusters."
   ]
  },
  {
   "cell_type": "code",
   "execution_count": 93,
   "metadata": {},
   "outputs": [
    {
     "name": "stdout",
     "output_type": "stream",
     "text": [
      "LP_STATUS_GROB_1.0    0.199434\n",
      "HH_EINKOMMEN_SCORE    0.183609\n",
      "PLZ8_ANTG3            0.176572\n",
      "PLZ8_ANTG4            0.174013\n",
      "ORTSGR_KLS9           0.157388\n",
      "Name: 0, dtype: float64\n",
      "KBA05_GBZ           -0.154050\n",
      "PLZ8_ANTG1          -0.172296\n",
      "MOBI_REGIO          -0.179856\n",
      "KBA05_ANTG1         -0.181359\n",
      "FINANZ_MINIMALIST   -0.206266\n",
      "Name: 0, dtype: float64\n"
     ]
    }
   ],
   "source": [
    "# Map weights for the first principal component to corresponding feature names\n",
    "# and then print the linked values, sorted by weight.\n",
    "# HINT: Try defining a function here or in a new cell that you can reuse in the\n",
    "# other cells.\n",
    "\n",
    "def p_components(pca, x):\n",
    "    df =pd.DataFrame(pca.components_ ,columns = standardized_features.keys())\n",
    "    return df.iloc[x,:].sort_values(ascending = False)\n",
    "    \n",
    "\n",
    "component0 = p_components(pca_final, 0)    \n",
    "print(component0.head(5))\n",
    "print(component0.tail(5))    "
   ]
  },
  {
   "cell_type": "code",
   "execution_count": 94,
   "metadata": {},
   "outputs": [
    {
     "name": "stdout",
     "output_type": "stream",
     "text": [
      "ALTERSKATEGORIE_GROB    0.217146\n",
      "FINANZ_VORSORGER        0.206220\n",
      "ZABEOTYP_3.0            0.199681\n",
      "SEMIO_ERL               0.179584\n",
      "SEMIO_LUST              0.153401\n",
      "Name: 1, dtype: float64\n",
      "SEMIO_PFLICHT           -0.192497\n",
      "SEMIO_TRADV             -0.199158\n",
      "FINANZ_UNAUFFAELLIGER   -0.206372\n",
      "SEMIO_REL               -0.207434\n",
      "FINANZ_SPARER           -0.210484\n",
      "Name: 1, dtype: float64\n"
     ]
    }
   ],
   "source": [
    "# Map weights for the second principal component to corresponding feature names\n",
    "# and then print the linked values, sorted by weight.\n",
    "\n",
    "component1 = p_components(pca_final, 1)\n",
    "\n",
    "print(component1.head(5))\n",
    "print(component1.tail(5))"
   ]
  },
  {
   "cell_type": "code",
   "execution_count": 95,
   "metadata": {},
   "outputs": [
    {
     "name": "stdout",
     "output_type": "stream",
     "text": [
      "ANREDE_KZ_1.0    0.332621\n",
      "SEMIO_VERT       0.303600\n",
      "SEMIO_FAM        0.242491\n",
      "SEMIO_SOZ        0.240376\n",
      "SEMIO_KULT       0.234679\n",
      "Name: 2, dtype: float64\n",
      "SEMIO_ERL       -0.187509\n",
      "SEMIO_KRIT      -0.245847\n",
      "SEMIO_DOM       -0.267013\n",
      "SEMIO_KAEM      -0.298014\n",
      "ANREDE_KZ_2.0   -0.332621\n",
      "Name: 2, dtype: float64\n"
     ]
    }
   ],
   "source": [
    "# Map weights for the third principal component to corresponding feature names\n",
    "# and then print the linked values, sorted by weight.\n",
    "\n",
    "component2 = p_components(pca_final, 2)    \n",
    "\n",
    "print(component2.head(5))\n",
    "print(component2.tail(5))"
   ]
  },
  {
   "cell_type": "markdown",
   "metadata": {},
   "source": [
    "### Discussion 2.3: Interpret Principal Components\n",
    "\n",
    "**First Principal Component**\n",
    "The first Principal Componen has a positive relation with  Social Status and Estimated Household Income. This means that when these two increase the value of the PC increases. This PC has a negative relation with \n",
    "the feature that measures low financial interest, where a higher value indicates lower interest. This means when the value of the feature measuring financial interest is higher, it indicates lower financial inetrest and decreases the value of the PC.\n",
    "Hence, this component is measure how financial sound the individual/household is.\n",
    "\n",
    "**Second Principal Component**\n",
    "The second principal component has a positive relationship has a positive relation with the feature measuring estimated age and a negative realtion with \n",
    "the measure of someone being a 'money-saver'. This means that the PC increases with higher age and decreases if an indiviual ranks low as a 'money saver'. \n",
    "\n",
    "**Third Principal Component**\n",
    "The third principal component has a positve relation with the Male gender and a negative relation with Female gender.\n",
    "This means the value of PC increases if the gender is male and decreses if it is female. It is also positively related to the features measuring the personality type as 'dreamful', 'family-oriented', 'social- minded', 'cultural-minded'. "
   ]
  },
  {
   "cell_type": "markdown",
   "metadata": {},
   "source": [
    "## Step 3: Clustering\n",
    "\n",
    "### Step 3.1: Apply Clustering to General Population\n",
    "\n",
    "You've assessed and cleaned the demographics data, then scaled and transformed them. Now, it's time to see how the data clusters in the principal components space. In this substep, you will apply k-means clustering to the dataset and use the average within-cluster distances from each point to their assigned cluster's centroid to decide on a number of clusters to keep.\n",
    "\n",
    "- Use sklearn's [KMeans](http://scikit-learn.org/stable/modules/generated/sklearn.cluster.KMeans.html#sklearn.cluster.KMeans) class to perform k-means clustering on the PCA-transformed data.\n",
    "- Then, compute the average difference from each point to its assigned cluster's center. **Hint**: The KMeans object's `.score()` method might be useful here, but note that in sklearn, scores tend to be defined so that larger is better. Try applying it to a small, toy dataset, or use an internet search to help your understanding.\n",
    "- Perform the above two steps for a number of different cluster counts. You can then see how the average distance decreases with an increasing number of clusters. However, each additional cluster provides a smaller net benefit. Use this fact to select a final number of clusters in which to group the data. **Warning**: because of the large size of the dataset, it can take a long time for the algorithm to resolve. The more clusters to fit, the longer the algorithm will take. You should test for cluster counts through at least 10 clusters to get the full picture, but you shouldn't need to test for a number of clusters above about 30.\n",
    "- Once you've selected a final number of clusters to use, re-fit a KMeans instance to perform the clustering operation. Make sure that you also obtain the cluster assignments for the general demographics data, since you'll be using them in the final Step 3.3."
   ]
  },
  {
   "cell_type": "code",
   "execution_count": 96,
   "metadata": {},
   "outputs": [],
   "source": [
    "# Over a number of different cluster counts...\n",
    "# compute the average within-cluster distances\n",
    "\n",
    "n_clusters = list(range(1,21))\n",
    "\n",
    "score = []\n",
    "def kmeans(i, data):\n",
    "    # run k-means clustering on the data and...\n",
    "    means_i = KMeans(n_clusters = i, init ='random')\n",
    "    model_i= means_i.fit(data)\n",
    "    score = abs(model_i.score(data))\n",
    "    return score    \n",
    "\n",
    "for i in n_clusters:\n",
    "    score.append(kmeans(i, X_pca_final))"
   ]
  },
  {
   "cell_type": "code",
   "execution_count": 97,
   "metadata": {
    "scrolled": true
   },
   "outputs": [
    {
     "data": {
      "image/png": "[encoded data removed]",
      "text/plain": [
       "<matplotlib.figure.Figure at 0x7f0994e4ee80>"
      ]
     },
     "metadata": {
      "needs_background": "light"
     },
     "output_type": "display_data"
    }
   ],
   "source": [
    "# Investigate the change in within-cluster distance across number of clusters.\n",
    "# HINT: Use matplotlib's plot function to visualize this relationship.\n",
    "\n",
    "plt.plot(n_clusters, score)\n",
    "plt.xticks(n_clusters, n_clusters)\n",
    "plt.show()"
   ]
  },
  {
   "cell_type": "code",
   "execution_count": 98,
   "metadata": {},
   "outputs": [],
   "source": [
    "# Re-fit the k-means model with the selected number of clusters and obtain\n",
    "# cluster predictions for the general population demographics data.\n",
    "\n",
    "k = 7\n",
    "\n",
    "kmeans = KMeans(n_clusters = 7, init ='random')\n",
    "model_kmeans= kmeans.fit(X_pca_final)\n",
    "labels = model_kmeans.predict(X_pca_final)\n",
    "score = abs(model_kmeans.score(X_pca_final))"
   ]
  },
  {
   "cell_type": "markdown",
   "metadata": {},
   "source": [
    "### Discussion 3.1: Apply Clustering to General Population\n",
    "\n",
    "***Report your findings and decisions regarding clustering. Into how many clusters have you decided to segment the population?***\n",
    "\n",
    "Plotting the number of centroids against the average within cluster distances(score) shows that there is an elbow when there are seven centroids. This point is the number of clusters that significantly reduces the avg distance."
   ]
  },
  {
   "cell_type": "markdown",
   "metadata": {},
   "source": [
    "### Step 3.2: Apply All Steps to the Customer Data\n",
    "\n",
    "Now that you have clusters and cluster centers for the general population, it's time to see how the customer data maps on to those clusters. Take care to not confuse this for re-fitting all of the models to the customer data. Instead, you're going to use the fits from the general population to clean, transform, and cluster the customer data. In the last step of the project, you will interpret how the general population fits apply to the customer data.\n",
    "\n",
    "- Don't forget when loading in the customers data, that it is semicolon (`;`) delimited.\n",
    "- Apply the same feature wrangling, selection, and engineering steps to the customer demographics using the `clean_data()` function you created earlier. (You can assume that the customer demographics data has similar meaning behind missing data patterns as the general demographics data.)\n",
    "- Use the sklearn objects from the general demographics data, and apply their transformations to the customers data. That is, you should not be using a `.fit()` or `.fit_transform()` method to re-fit the old objects, nor should you be creating new sklearn objects! Carry the data through the feature scaling, PCA, and clustering steps, obtaining cluster assignments for all of the data in the customer demographics data."
   ]
  },
  {
   "cell_type": "code",
   "execution_count": 99,
   "metadata": {},
   "outputs": [],
   "source": [
    "# Load in the customer demographics data.\n",
    "customers = pd.read_csv('Udacity_CUSTOMERS_Subset.csv', delimiter = ';')"
   ]
  },
  {
   "cell_type": "code",
   "execution_count": 100,
   "metadata": {},
   "outputs": [],
   "source": [
    "cleaned_customers_data = clean_data(customers)"
   ]
  },
  {
   "cell_type": "code",
   "execution_count": 101,
   "metadata": {},
   "outputs": [
    {
     "data": {
      "text/plain": [
       "1.0    95145\n",
       "3.0    23655\n",
       "8.0    20475\n",
       "2.0     2057\n",
       "4.0      251\n",
       "6.0      142\n",
       "Name: GEBAEUDETYP, dtype: int64"
      ]
     },
     "execution_count": 101,
     "metadata": {},
     "output_type": "execute_result"
    }
   ],
   "source": [
    "# The customer's dataset does not have any cases where the feature 'GEBAEUDETYP' value is 5. Thus when dummy variables are created \n",
    "# for this variable in the cleaning process, there is one variable less than the population data. In order to overcome\n",
    "# this problem an extra feature 'GEBAEUDETYP_5.0' is created, which has a value of 0 for all rows.\n",
    "\n",
    "customers['GEBAEUDETYP'].value_counts()"
   ]
  },
  {
   "cell_type": "code",
   "execution_count": 102,
   "metadata": {},
   "outputs": [],
   "source": [
    "column_values = [0] * cleaned_customers_data.shape[0]\n",
    "\n",
    "cleaned_customers_data['GEBAEUDETYP_5.0'] = column_values"
   ]
  },
  {
   "cell_type": "code",
   "execution_count": 103,
   "metadata": {},
   "outputs": [],
   "source": [
    "# Apply preprocessing, feature transformation, and clustering from the general\n",
    "# demographics onto the customer data, obtaining cluster predictions for the\n",
    "# customer demographics data.\n",
    "\n",
    "customers_standardized_features = pd.DataFrame(scaler.transform(cleaned_customers_data), columns = cleaned_customers_data.columns)\n",
    "\n",
    "\n",
    "customers_pca = pca_final.transform(customers_standardized_features)\n",
    "customers_model_kmeans= kmeans.transform(customers_pca)\n"
   ]
  },
  {
   "cell_type": "code",
   "execution_count": 104,
   "metadata": {},
   "outputs": [],
   "source": [
    "customers_labels = kmeans.predict(customers_pca)\n",
    "customers_score = abs(kmeans.score(customers_pca))"
   ]
  },
  {
   "cell_type": "markdown",
   "metadata": {},
   "source": [
    "### Step 3.3: Compare Customer Data to Demographics Data\n",
    "\n",
    "At this point, you have clustered data based on demographics of the general population of Germany, and seen how the customer data for a mail-order sales company maps onto those demographic clusters. In this final substep, you will compare the two cluster distributions to see where the strongest customer base for the company is.\n",
    "\n",
    "Consider the proportion of persons in each cluster for the general population, and the proportions for the customers. If we think the company's customer base to be universal, then the cluster assignment proportions should be fairly similar between the two. If there are only particular segments of the population that are interested in the company's products, then we should see a mismatch from one to the other. If there is a higher proportion of persons in a cluster for the customer data compared to the general population (e.g. 5% of persons are assigned to a cluster for the general population, but 15% of the customer data is closest to that cluster's centroid) then that suggests the people in that cluster to be a target audience for the company. On the other hand, the proportion of the data in a cluster being larger in the general population than the customer data (e.g. only 2% of customers closest to a population centroid that captures 6% of the data) suggests that group of persons to be outside of the target demographics.\n",
    "\n",
    "Take a look at the following points in this step:\n",
    "\n",
    "- Compute the proportion of data points in each cluster for the general population and the customer data. Visualizations will be useful here: both for the individual dataset proportions, but also to visualize the ratios in cluster representation between groups. Seaborn's [`countplot()`](https://seaborn.pydata.org/generated/seaborn.countplot.html) or [`barplot()`](https://seaborn.pydata.org/generated/seaborn.barplot.html) function could be handy.\n",
    "  - Recall the analysis you performed in step 1.1.3 of the project, where you separated out certain data points from the dataset if they had more than a specified threshold of missing values. If you found that this group was qualitatively different from the main bulk of the data, you should treat this as an additional data cluster in this analysis. Make sure that you account for the number of data points in this subset, for both the general population and customer datasets, when making your computations!\n",
    "- Which cluster or clusters are overrepresented in the customer dataset compared to the general population? Select at least one such cluster and infer what kind of people might be represented by that cluster. Use the principal component interpretations from step 2.3 or look at additional components to help you make this inference. Alternatively, you can use the `.inverse_transform()` method of the PCA and StandardScaler objects to transform centroids back to the original data space and interpret the retrieved values directly.\n",
    "- Perform a similar investigation for the underrepresented clusters. Which cluster or clusters are underrepresented in the customer dataset compared to the general population, and what kinds of people are typified by these clusters?"
   ]
  },
  {
   "cell_type": "code",
   "execution_count": 105,
   "metadata": {},
   "outputs": [],
   "source": [
    "# Compare the proportion of data in each cluster for the customer data to the\n",
    "# proportion of data in each cluster for the general population.\n",
    "\n",
    "def cluster_prop(labels):\n",
    "    (unique, counts) = np.unique(labels, return_counts=True)\n",
    "    prop = []\n",
    "    for i in counts:\n",
    "        prop.append(round(i/labels.size,2)*100)\n",
    "    return unique, prop\n",
    "    \n",
    "centroid, props = cluster_prop(labels)\n",
    "centroid, customer_props = cluster_prop(customers_labels)"
   ]
  },
  {
   "cell_type": "code",
   "execution_count": 106,
   "metadata": {},
   "outputs": [
    {
     "data": {
      "image/png": "[encoded data removed]",
      "text/plain": [
       "<matplotlib.figure.Figure at 0x7f0995878c18>"
      ]
     },
     "metadata": {
      "needs_background": "light"
     },
     "output_type": "display_data"
    }
   ],
   "source": [
    "fig, ax=plt.subplots()\n",
    "\n",
    "\n",
    "width = 0.15      \n",
    "\n",
    "\n",
    "# Create bars\n",
    "bars = centroid\n",
    "y_pos = np.arange(len(centroid))\n",
    "\n",
    "ax.bar(centroid, props, width, label ='General Population Data')\n",
    "ax.bar(centroid + width, customer_props, width, label =\"Customer's Data\")\n",
    "\n",
    "# Create names on the x-axis\n",
    "plt.xticks(y_pos, bars)\n",
    "plt.legend()\n",
    "\n",
    "plt.show()"
   ]
  },
  {
   "cell_type": "code",
   "execution_count": 108,
   "metadata": {},
   "outputs": [
    {
     "name": "stdout",
     "output_type": "stream",
     "text": [
      "MIN_GEBAEUDEJAHR       1992.5\n",
      "KBA13_ANZAHL_PKW        555.4\n",
      "ANZ_HAUSHALTE_AKTIV      13.4\n",
      "WOHNDAUER_2008            7.2\n",
      "ORTSGR_KLS9               6.5\n",
      "SEMIO_PFLICHT             6.0\n",
      "SEMIO_KAEM                6.0\n",
      "SEMIO_DOM                 6.0\n",
      "SEMIO_RAT                 5.9\n",
      "HH_EINKOMMEN_SCORE        5.5\n",
      "dtype: float64\n"
     ]
    }
   ],
   "source": [
    "# What kinds of people are part of a cluster that is overrepresented in the\n",
    "# customer data compared to the general population?\n",
    "\n",
    "\n",
    "cluster0 = scaler.inverse_transform(pca_final.inverse_transform(kmeans.cluster_centers_[0])).round(1)\n",
    "cluster_0 = pd.Series(data = cluster0, index = cleaned_customers_data.columns).sort_values(ascending = False)\n",
    "\n",
    "print(cluster_0[:10])"
   ]
  },
  {
   "cell_type": "code",
   "execution_count": 109,
   "metadata": {},
   "outputs": [
    {
     "data": {
      "text/plain": [
       "MIN_GEBAEUDEJAHR     1993.8\n",
       "KBA13_ANZAHL_PKW      652.4\n",
       "WOHNDAUER_2008          8.4\n",
       "INNENSTADT              5.9\n",
       "BALLRAUM                5.4\n",
       "SEMIO_ERL               5.3\n",
       "SEMIO_LUST              4.8\n",
       "SEMIO_VERT              4.6\n",
       "SEMIO_KRIT              4.6\n",
       "FINANZ_MINIMALIST       4.4\n",
       "dtype: float64"
      ]
     },
     "execution_count": 109,
     "metadata": {},
     "output_type": "execute_result"
    }
   ],
   "source": [
    "# What kinds of people are part of a cluster that is underrepresented in the\n",
    "# customer data compared to the general population?\n",
    "\n",
    "cluster4 = scaler.inverse_transform(pca_final.inverse_transform(kmeans.cluster_centers_[4])).round(1)\n",
    "cluster_4 = pd.Series(data = cluster4, index = cleaned_customers_data.columns).sort_values(ascending = False)\n",
    "\n",
    "cluster_4[:10]"
   ]
  },
  {
   "cell_type": "markdown",
   "metadata": {},
   "source": [
    "### Discussion 3.3: Compare Customer Data to Demographics Data\n",
    "***Can we describe segments of the population that are relatively popular with the mail-order company, or relatively unpopular with the company?***\n",
    "\n",
    "Cluster 0 is overrepresented in the customer's data. This cluster is most popular with the mail-order company. This consists of individuals  that are dutiful, rational, dominat-minded and have a combative attitude.\n",
    "\n",
    "Cluster 4 is the most underrepresented cluster in the customer's data. This cluster is unpopular with the mail-order company. \n",
    "This  cluster consists of individuals that are event-oriented, dreamful, sensual minded and critical-minded."
   ]
  },
  {
   "cell_type": "markdown",
   "metadata": {},
   "source": [
    "> Congratulations on making it this far in the project! Before you finish, make sure to check through the entire notebook from top to bottom to make sure that your analysis follows a logical flow and all of your findings are documented in **Discussion** cells. Once you've checked over all of your work, you should export the notebook as an HTML document to submit for evaluation. You can do this from the menu, navigating to **File -> Download as -> HTML (.html)**. You will submit both that document and this notebook for your project submission."
   ]
  },
  {
   "cell_type": "code",
   "execution_count": null,
   "metadata": {},
   "outputs": [],
   "source": []
  }
 ],
 "metadata": {
  "kernelspec": {
   "display_name": "Python 3",
   "language": "python",
   "name": "python3"
  },
  "language_info": {
   "codemirror_mode": {
    "name": "ipython",
    "version": 3
   },
   "file_extension": ".py",
   "mimetype": "text/x-python",
   "name": "python",
   "nbconvert_exporter": "python",
   "pygments_lexer": "ipython3",
   "version": "3.6.3"
  }
 },
 "nbformat": 4,
 "nbformat_minor": 2
}
